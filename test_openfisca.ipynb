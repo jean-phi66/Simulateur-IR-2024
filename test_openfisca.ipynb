{
 "cells": [
  {
   "cell_type": "code",
   "execution_count": 111,
   "metadata": {},
   "outputs": [],
   "source": [
    "from pprint import pprint  # data pretty printer\n",
    "\n",
    "from openfisca_core.taxbenefitsystems import TaxBenefitSystem\n",
    "\n",
    "from openfisca_france.entities import entities\n",
    "\n",
    "from openfisca_france import FranceTaxBenefitSystem\n",
    "\n",
    "from openfisca_core.simulation_builder import SimulationBuilder\n"
   ]
  },
  {
   "cell_type": "markdown",
   "metadata": {},
   "source": [
    "https://mybinder.org/repo/openfisca/tutorial\n",
    "https://github.com/openfisca/tutorial/tree/master/notebooks\n"
   ]
  },
  {
   "cell_type": "code",
   "execution_count": 2,
   "metadata": {},
   "outputs": [
    {
     "data": {
      "text/plain": [
       "<openfisca_france.france_taxbenefitsystem.FranceTaxBenefitSystem at 0x10fc25c70>"
      ]
     },
     "execution_count": 2,
     "metadata": {},
     "output_type": "execute_result"
    }
   ],
   "source": [
    "FranceTaxBenefitSystem()"
   ]
  },
  {
   "cell_type": "markdown",
   "metadata": {},
   "source": [
    "https://github.com/openfisca/tutorial/blob/master/notebooks/how_to_handle_axes.ipynb"
   ]
  },
  {
   "cell_type": "code",
   "execution_count": 3,
   "metadata": {},
   "outputs": [],
   "source": [
    "from openfisca_france import FranceTaxBenefitSystem\n",
    "from openfisca_france.scenarios import init_single_entity\n",
    "\n",
    "tax_benefit_system = FranceTaxBenefitSystem()  # Create an instance of French Tax and Benefit system"
   ]
  },
  {
   "cell_type": "code",
   "execution_count": 33,
   "metadata": {},
   "outputs": [],
   "source": [
    "scenario = init_single_entity(\n",
    "    tax_benefit_system.new_scenario(),\n",
    "    \n",
    "    # Axe declaration\n",
    "    axes = [[\n",
    "        dict(                       #  in a dictionary\n",
    "            count = 100,            # 'count' : indicates the number of step\n",
    "            min = 0,\n",
    "            max = 100000,\n",
    "            name = 'salaire_de_base', # the variable you want to make evolve\n",
    "            ),\n",
    "        ]],\n",
    "    \n",
    "    period = 2024,\n",
    "    parent1 = dict(\n",
    "        date_naissance = '1980-01-01',\n",
    "    )\n",
    ")\n",
    "\n",
    "simulation = scenario.new_simulation()"
   ]
  },
  {
   "cell_type": "code",
   "execution_count": 34,
   "metadata": {},
   "outputs": [
    {
     "data": {
      "text/plain": [
       "array([     0.     ,   1010.10114,   2020.2023 ,   3030.3027 ,\n",
       "         4040.4045 ,   5050.5054 ,   6060.6055 ,   7070.707  ,\n",
       "         8080.809  ,   9090.909  ,  10101.011  ,  11111.11   ,\n",
       "        12121.211  ,  13131.315  ,  14141.414  ,  15151.515  ,\n",
       "        16161.618  ,  17171.717  ,  18181.818  ,  19191.918  ,\n",
       "        20202.021  ,  21212.121  ,  22222.22   ,  23232.326  ,\n",
       "        24242.422  ,  25252.525  ,  26262.63   ,  27272.725  ,\n",
       "        28282.828  ,  29292.932  ,  30303.03   ,  31313.13   ,\n",
       "        32323.236  ,  33333.332  ,  34343.434  ,  35353.54   ,\n",
       "        36363.637  ,  37373.74   ,  38383.836  ,  39393.938  ,\n",
       "        40404.043  ,  41414.14   ,  42424.242  ,  43434.344  ,\n",
       "        44444.44   ,  45454.547  ,  46464.652  ,  47474.75   ,\n",
       "        48484.844  ,  49494.94   ,  50505.05   ,  51515.152  ,\n",
       "        52525.26   ,  53535.363  ,  54545.45   ,  55555.55   ,\n",
       "        56565.656  ,  57575.76   ,  58585.863  ,  59595.953  ,\n",
       "        60606.06   ,  61616.16   ,  62626.26   ,  63636.37   ,\n",
       "        64646.473  ,  65656.555  ,  66666.664  ,  67676.766  ,\n",
       "        68686.87   ,  69696.98   ,  70707.08   ,  71717.164  ,\n",
       "        72727.27   ,  73737.375  ,  74747.48   ,  75757.586  ,\n",
       "        76767.67   ,  77777.78   ,  78787.875  ,  79797.97   ,\n",
       "        80808.086  ,  81818.164  ,  82828.28   ,  83838.38   ,\n",
       "        84848.484  ,  85858.586  ,  86868.69   ,  87878.805  ,\n",
       "        88888.88   ,  89899.     ,  90909.09   ,  91919.19   ,\n",
       "        92929.305  ,  93939.38   ,  94949.5    ,  95959.59   ,\n",
       "        96969.69   ,  97979.805  ,  98989.88   , 100000.01   ],\n",
       "      dtype=float32)"
      ]
     },
     "execution_count": 34,
     "metadata": {},
     "output_type": "execute_result"
    }
   ],
   "source": [
    "simulation.calculate_add('salaire_de_base', 2024)\n"
   ]
  },
  {
   "cell_type": "code",
   "execution_count": 37,
   "metadata": {},
   "outputs": [
    {
     "data": {
      "text/plain": [
       "array([    -0.     ,     -0.     ,     -0.     ,     -0.     ,\n",
       "           -0.     ,     -0.     ,     -0.     ,     -0.     ,\n",
       "           -0.     ,     -0.     ,     -0.     ,     -0.     ,\n",
       "           -0.     ,     -0.     ,     -0.     ,     -0.     ,\n",
       "          -69.85247,   -151.82997,   -233.82208,   -315.82645,\n",
       "         -397.81735,   -479.80862,   -561.8974 ,   -643.90155,\n",
       "         -725.8928 ,   -807.87115,   -889.8759 ,   -971.85364,\n",
       "        -1053.9556 ,  -1135.9725 ,  -1217.9379 ,  -1299.9293 ,\n",
       "        -1381.9349 ,  -1463.9116 ,  -1546.027  ,  -1628.0187 ,\n",
       "        -1710.0099 ,  -1791.9879 ,  -1873.9797 ,  -2008.8959 ,\n",
       "        -2232.8076 ,  -2456.4578 ,  -2680.0703 ,  -2903.61   ,\n",
       "        -3127.2588 ,  -3349.7722 ,  -3557.827  ,  -3784.3386 ,\n",
       "        -4010.8232 ,  -4237.369  ,  -4463.8223 ,  -4690.3374 ,\n",
       "        -4916.8164 ,  -5143.2964 ,  -5370.113  ,  -5596.592  ,\n",
       "        -5823.0776 ,  -6049.5576 ,  -6276.0356 ,  -6502.552  ,\n",
       "        -6729.107  ,  -6955.5493 ,  -7182.0317 ,  -7408.5835 ,\n",
       "        -7635.3345 ,  -7861.8086 ,  -8088.326  ,  -8314.8125 ,\n",
       "        -8541.296  ,  -8767.803  ,  -8994.287  ,  -9220.804  ,\n",
       "        -9447.321  ,  -9673.803  ,  -9900.583  , -10127.1    ,\n",
       "       -10353.547  , -10580.065  , -10806.574  , -11033.023  ,\n",
       "       -11259.507  , -11486.019  , -11712.57   , -11939.323  ,\n",
       "       -12165.84   , -12392.318  , -12618.8    , -12845.313  ,\n",
       "       -13071.8    , -13298.276  , -13524.762  , -13751.276  ,\n",
       "       -13977.755  , -14204.602  , -14431.051  , -14657.536  ,\n",
       "       -14884.086  , -15110.566  , -15337.011  , -15563.527  ],\n",
       "      dtype=float32)"
      ]
     },
     "execution_count": 37,
     "metadata": {},
     "output_type": "execute_result"
    }
   ],
   "source": [
    "income_tax = - simulation.calculate('ir_brut', 2024)\n",
    "TMI = simulation.calculate('ir_tranche', 2024)\n",
    "gross_wage = simulation.calculate_add('salaire_de_base', 2014)\n",
    "taxable_income = simulation.calculate_add('salaire_imposable', 2014)\n",
    "income_tax\n",
    "#TMI"
   ]
  },
  {
   "cell_type": "code",
   "execution_count": 48,
   "metadata": {},
   "outputs": [
    {
     "data": {
      "text/plain": [
       "  - threshold: 0\n",
       "    rate: 0\n",
       "  - threshold: 10777\n",
       "    rate: 0.11\n",
       "  - threshold: 27478\n",
       "    rate: 0.3\n",
       "  - threshold: 78570\n",
       "    rate: 0.41\n",
       "  - threshold: 168994\n",
       "    rate: 0.45"
      ]
     },
     "execution_count": 48,
     "metadata": {},
     "output_type": "execute_result"
    }
   ],
   "source": [
    "tax_benefit_system.parameters(2022).impot_revenu.bareme_ir_depuis_1945.bareme"
   ]
  },
  {
   "cell_type": "code",
   "execution_count": 62,
   "metadata": {},
   "outputs": [
    {
     "data": {
      "text/plain": [
       "  - threshold: 0\n",
       "    rate: 0\n",
       "  - threshold: 11294\n",
       "    rate: 0.11\n",
       "  - threshold: 28797\n",
       "    rate: 0.3\n",
       "  - threshold: 82341\n",
       "    rate: 0.41\n",
       "  - threshold: 177106\n",
       "    rate: 0.45"
      ]
     },
     "execution_count": 62,
     "metadata": {},
     "output_type": "execute_result"
    }
   ],
   "source": [
    "tax_benefit_system.parameters(2024).impot_revenu.bareme_ir_depuis_1945.bareme"
   ]
  },
  {
   "cell_type": "code",
   "execution_count": 78,
   "metadata": {},
   "outputs": [
    {
     "ename": "SyntaxError",
     "evalue": "cannot assign to function call (1636975737.py, line 5)",
     "output_type": "error",
     "traceback": [
      "\u001b[0;36m  Cell \u001b[0;32mIn[78], line 5\u001b[0;36m\u001b[0m\n\u001b[0;31m    tax_benefit_system.parameters.impot_revenu.bareme_ir_depuis_1945.bareme(2024) = bareme2024.thresholds\u001b[0m\n\u001b[0m    ^\u001b[0m\n\u001b[0;31mSyntaxError\u001b[0m\u001b[0;31m:\u001b[0m cannot assign to function call\n"
     ]
    }
   ],
   "source": [
    "bareme2024 = tax_benefit_system.parameters.impot_revenu.bareme_ir_depuis_1945.bareme(2024)\n",
    "type(bareme2024)\n",
    "bareme2024.rates\n",
    "bareme2024.thresholds = [0, 11294, 28797, 82341, 180000]\n",
    "tax_benefit_system.parameters.impot_revenu.bareme_ir_depuis_1945.bareme(2024) = bareme2024.thresholds\n"
   ]
  },
  {
   "cell_type": "markdown",
   "metadata": {},
   "source": [
    "https://github.com/openfisca/tutorial/blob/master/python/reforme_parametrique.py"
   ]
  },
  {
   "cell_type": "code",
   "execution_count": 105,
   "metadata": {},
   "outputs": [
    {
     "name": "stdout",
     "output_type": "stream",
     "text": [
      "Résultat actuel\n",
      "  - threshold: 0\n",
      "    rate: 0\n",
      "  - threshold: 11294\n",
      "    rate: 0.11\n",
      "  - threshold: 28797\n",
      "    rate: 0.3\n",
      "  - threshold: 82341\n",
      "    rate: 0.41\n",
      "  - threshold: 177106\n",
      "    rate: 0.45\n",
      "Resultat après reforme\n",
      "  - threshold: 0\n",
      "    rate: 0\n",
      "  - threshold: 11520\n",
      "    rate: 0.11\n",
      "  - threshold: 29373\n",
      "    rate: 0.3\n",
      "  - threshold: 83988\n",
      "    rate: 0.41\n",
      "  - threshold: 180648\n",
      "    rate: 0.45\n"
     ]
    }
   ],
   "source": [
    "from openfisca_core import reforms, periods\n",
    "from openfisca_france.model.base import *\n",
    "\n",
    "# Décrivez votre réforme\n",
    "\n",
    "# Cette partie décrit les changements\n",
    "def modifier_un_parametre(parameters):\n",
    "    # Ceci décrit la periode sur laquelle va s'appliquer ce changement\n",
    "    reform_year = 2024\n",
    "    reform_period = periods.period(reform_year)\n",
    "    # Cette partie propose un changement de taux pour le barème 1 (le second) de l'impôt sur le revenu à partir du début 2017\n",
    "    #parameters.impot_revenu.bareme_ir_depuis_1945.bareme.thresholds[1].update(start=reform_period.start, value=11520)\n",
    "    #parameters.impot_revenu.bareme_ir_depuis_1945.bareme.update(start=reform_period.start, value=11520)\n",
    "    #parameters.impot_revenu.bareme_ir_depuis_1945.bareme[1].rate.update(start=reform_period.start, value=0.145)\n",
    "    parameters.impot_revenu.bareme_ir_depuis_1945.bareme[1].threshold.update(start=reform_period.start, value=11520)\n",
    "    parameters.impot_revenu.bareme_ir_depuis_1945.bareme[2].threshold.update(start=reform_period.start, value=29373)\n",
    "    parameters.impot_revenu.bareme_ir_depuis_1945.bareme[3].threshold.update(start=reform_period.start, value=83988)\n",
    "    parameters.impot_revenu.bareme_ir_depuis_1945.bareme[4].threshold.update(start=reform_period.start, value=180648)\n",
    "\n",
    "    #parameters.impot_revenu.bareme_ir_depuis_1945.bareme[2].thresholds.update(start=reform_period.start, value=29373)\n",
    "    #parameters.impot_revenu.bareme_ir_depuis_1945.bareme[3].thresholds.update(start=reform_period.start, value=83988)\n",
    "    #parameters.impot_revenu.bareme_ir_depuis_1945.bareme[4].thresholds.update(start=reform_period.start, value=180648)\n",
    "    return parameters\n",
    "\n",
    "# Cette partie rassemble les changements de paramètre dans une seule réforme appelée ici MaReforme\n",
    "class MaReforme(reforms.Reform):\n",
    "    def apply(self):\n",
    "        self.modify_parameters(modifier_function = modifier_un_parametre)\n",
    "\n",
    "legislation_france = FranceTaxBenefitSystem()\n",
    "\n",
    "resultat_actuel = legislation_france.parameters.impot_revenu.bareme_ir_depuis_1945.bareme(2024)\n",
    "\n",
    "print(\"Résultat actuel\")\n",
    "print(resultat_actuel)\n",
    "\n",
    "# Consultez la situation avec la reforme\n",
    "legislation_reforme = MaReforme(legislation_france)\n",
    "\n",
    "resultat_apres_reforme = legislation_reforme.parameters.impot_revenu.bareme_ir_depuis_1945.bareme(2024)\n",
    "\n",
    "print(\"Resultat après reforme\")\n",
    "print(resultat_apres_reforme)"
   ]
  },
  {
   "cell_type": "code",
   "execution_count": 116,
   "metadata": {},
   "outputs": [
    {
     "name": "stdout",
     "output_type": "stream",
     "text": [
      "{'familles': {'famille1': {'enfants': ['enfant1', 'enfant2'],\n",
      "                           'parents': ['parent1']}},\n",
      " 'foyers_fiscaux': {'foyer_fiscal1': {'caseT': {'2023': True, '2024': True},\n",
      "                                      'celibataire_ou_divorce': {'2023': True,\n",
      "                                                                 '2024': True},\n",
      "                                      'declarants': ['parent1'],\n",
      "                                      'personnes_a_charge': ['enfant1',\n",
      "                                                             'enfant2']}},\n",
      " 'individus': {'enfant1': {'age': {'2015-01': 12}},\n",
      "               'enfant2': {'age': {'2015-01': 18}},\n",
      "               'parent1': {'age': {'2015-01': 30},\n",
      "                           'salaire_de_base': {'2023': 200000,\n",
      "                                               '2024': 200000}}},\n",
      " 'menages': {'menage1': {'enfants': ['enfant1', 'enfant2'],\n",
      "                         'personne_de_reference': ['parent1']}}}\n"
     ]
    }
   ],
   "source": [
    "TEST_CASE = {\n",
    "    'individus': {\n",
    "        'parent1': {\n",
    "            'age': {'2015-01': 30},\n",
    "            'salaire_de_base': {'2023': 200000,'2024': 200000}\n",
    "        },\n",
    "        'enfant1': {\n",
    "            'age': {'2015-01': 12}\n",
    "        },\n",
    "        'enfant2': {\n",
    "            'age': {'2015-01': 18}\n",
    "        }\n",
    "    }\n",
    "}\n",
    "TEST_CASE['foyers_fiscaux'] = {\n",
    "    'foyer_fiscal1': {\n",
    "        'declarants': ['parent1'],\n",
    "        'personnes_a_charge': ['enfant1', 'enfant2'],\n",
    "        'celibataire_ou_divorce': {'2023': True, '2024': True},\n",
    "        'caseT': {'2023': True, '2024': True}\n",
    "    }\n",
    "}\n",
    "\n",
    "TEST_CASE['menages'] = {\n",
    "    'menage1': {\n",
    "        'personne_de_reference': ['parent1'],\n",
    "        'enfants': ['enfant1', 'enfant2']\n",
    "    }\n",
    "}\n",
    "\n",
    "TEST_CASE['familles'] = {\n",
    "    'famille1': {\n",
    "        'parents': ['parent1'],\n",
    "        'enfants': ['enfant1', 'enfant2']\n",
    "    }\n",
    "}\n",
    "\n",
    "# display full test case\n",
    "pprint(TEST_CASE)"
   ]
  },
  {
   "cell_type": "code",
   "execution_count": 118,
   "metadata": {},
   "outputs": [
    {
     "name": "stdout",
     "output_type": "stream",
     "text": [
      "[40386.008]\n",
      "[40393.33]\n",
      "[40070.54]\n",
      "[40393.33]\n"
     ]
    }
   ],
   "source": [
    "simulation_builder = SimulationBuilder()\n",
    "simulation_2023 = simulation_builder.build_from_entities(legislation_france, TEST_CASE)\n",
    "simulation_2024 = simulation_builder.build_from_entities(legislation_reforme, TEST_CASE)\n",
    "\n",
    "print(simulation_2023.calculate('ir_plaf_qf', '2024'))\n",
    "print(simulation_2023.calculate('ir_plaf_qf', '2023'))\n",
    "print(simulation_2024.calculate('ir_plaf_qf', '2024'))\n",
    "print(simulation_2024.calculate('ir_plaf_qf', '2023'))\n",
    "\n"
   ]
  },
  {
   "cell_type": "markdown",
   "metadata": {},
   "source": [
    "https://legislation.fr.openfisca.org/?q=impot#search-input"
   ]
  },
  {
   "cell_type": "code",
   "execution_count": 31,
   "metadata": {},
   "outputs": [
    {
     "data": {
      "text/plain": [
       "4432265712_624334783936080248_ir_prelevement_forfaitaire_unique.assurance_vie_pfu_ir"
      ]
     },
     "execution_count": 31,
     "metadata": {},
     "output_type": "execute_result"
    }
   ],
   "source": [
    "type(tax_benefit_system.variables['assurance_vie_pfu_ir'])"
   ]
  },
  {
   "cell_type": "code",
   "execution_count": 56,
   "metadata": {},
   "outputs": [
    {
     "data": {
      "text/plain": [
       "array([1., 1., 1., 1., 1., 1., 1., 1., 1., 1., 1., 1., 1., 1., 1., 1., 1.,\n",
       "       1., 1., 1., 1., 1., 1., 1., 1., 1., 1., 1., 1., 1., 1., 1., 1., 1.,\n",
       "       1., 1., 1., 1., 1., 1., 1., 1., 1., 1., 1., 1., 1., 1., 1., 1., 1.,\n",
       "       1., 1., 1., 1., 1., 1., 1., 1., 1., 1., 1., 1., 1., 1., 1., 1., 1.,\n",
       "       1., 1., 1., 1., 1., 1., 1., 1., 1., 1., 1., 1., 1., 1., 1., 1., 1.,\n",
       "       1., 1., 1., 1., 1., 1., 1., 1., 1., 1., 1., 1., 1., 1., 1.],\n",
       "      dtype=float32)"
      ]
     },
     "execution_count": 56,
     "metadata": {},
     "output_type": "execute_result"
    }
   ],
   "source": [
    "scenario_qf = init_single_entity(\n",
    "    tax_benefit_system.new_scenario(),\n",
    "    \n",
    "    # Axe declaration\n",
    "    axes = [[\n",
    "        dict(                       #  in a dictionary\n",
    "            count = 100,            # 'count' : indicates the number of step\n",
    "            min = 0,\n",
    "            max = 100000,\n",
    "            name = 'salaire_de_base', # the variable you want to make evolve\n",
    "            ),\n",
    "        ]],\n",
    "    \n",
    "    period = 2024,\n",
    "    parent1 = dict(\n",
    "        date_naissance = '1980-01-01',\n",
    "    ),\n",
    "    parent2 = dict(\n",
    "        date_naissance = '1984-01-01',\n",
    "    )\n",
    ")\n",
    "simulation_qf = scenario.new_simulation()\n",
    "simulation_qf.calculate_add('salaire_de_base', 2024)\n",
    "simulation_qf.calculate('ir_plaf_qf', 2024)\n",
    "simulation_qf.calculate('nb_adult', 2024)"
   ]
  },
  {
   "cell_type": "code",
   "execution_count": null,
   "metadata": {},
   "outputs": [],
   "source": []
  }
 ],
 "metadata": {
  "kernelspec": {
   "display_name": "openfisca",
   "language": "python",
   "name": "python3"
  },
  "language_info": {
   "codemirror_mode": {
    "name": "ipython",
    "version": 3
   },
   "file_extension": ".py",
   "mimetype": "text/x-python",
   "name": "python",
   "nbconvert_exporter": "python",
   "pygments_lexer": "ipython3",
   "version": "3.9.20"
  }
 },
 "nbformat": 4,
 "nbformat_minor": 2
}
