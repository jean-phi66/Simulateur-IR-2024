{
 "cells": [
  {
   "cell_type": "markdown",
   "metadata": {},
   "source": [
    "# Simulateur du calcule de lImpot sur le revenu (IR)\n",
    "Base: openfisca - https://github.com/openfisca"
   ]
  },
  {
   "cell_type": "code",
   "execution_count": 1,
   "metadata": {},
   "outputs": [],
   "source": [
    "from pprint import pprint  # data pretty printer\n",
    "\n",
    "from openfisca_core import reforms, periods\n",
    "from openfisca_france.model.base import *\n",
    "from openfisca_france.scenarios import init_single_entity\n",
    "\n",
    "from openfisca_france import FranceTaxBenefitSystem\n",
    "\n",
    "from openfisca_core.simulation_builder import SimulationBuilder\n",
    "\n",
    "import numpy as np\n",
    "import pandas as pd\n",
    "\n",
    "import plotly.express as px\n"
   ]
  },
  {
   "cell_type": "markdown",
   "metadata": {},
   "source": [
    "### Mise à jour des seuils des tranches de l'IR (Projet de loi de finances 2024)"
   ]
  },
  {
   "cell_type": "code",
   "execution_count": 2,
   "metadata": {},
   "outputs": [],
   "source": [
    "# Cette partie décrit les changements\n",
    "def modifier_un_parametre(parameters):\n",
    "    # Ceci décrit la periode sur laquelle va s'appliquer ce changement\n",
    "    reform_year = 2024\n",
    "    reform_period = periods.period(reform_year)\n",
    "    parameters.impot_revenu.bareme_ir_depuis_1945.bareme[1].threshold.update(start=reform_period.start, value=11520)\n",
    "    parameters.impot_revenu.bareme_ir_depuis_1945.bareme[2].threshold.update(start=reform_period.start, value=29373)\n",
    "    parameters.impot_revenu.bareme_ir_depuis_1945.bareme[3].threshold.update(start=reform_period.start, value=83988)\n",
    "    parameters.impot_revenu.bareme_ir_depuis_1945.bareme[4].threshold.update(start=reform_period.start, value=180648)\n",
    "    return parameters\n",
    "\n",
    "# Cette partie rassemble les changements de paramètre dans une seule réforme appelée ici MaReforme\n",
    "class MaReforme(reforms.Reform):\n",
    "    def apply(self):\n",
    "        self.modify_parameters(modifier_function = modifier_un_parametre)\n"
   ]
  },
  {
   "cell_type": "markdown",
   "metadata": {},
   "source": [
    "Sanity check et comparaison avec année précédente"
   ]
  },
  {
   "cell_type": "code",
   "execution_count": 3,
   "metadata": {},
   "outputs": [
    {
     "name": "stdout",
     "output_type": "stream",
     "text": [
      "Résultat actuel\n",
      "  - threshold: 0\n",
      "    rate: 0\n",
      "  - threshold: 11294\n",
      "    rate: 0.11\n",
      "  - threshold: 28797\n",
      "    rate: 0.3\n",
      "  - threshold: 82341\n",
      "    rate: 0.41\n",
      "  - threshold: 177106\n",
      "    rate: 0.45\n",
      "Resultat après reforme\n",
      "  - threshold: 0\n",
      "    rate: 0\n",
      "  - threshold: 11520\n",
      "    rate: 0.11\n",
      "  - threshold: 29373\n",
      "    rate: 0.3\n",
      "  - threshold: 83988\n",
      "    rate: 0.41\n",
      "  - threshold: 180648\n",
      "    rate: 0.45\n"
     ]
    }
   ],
   "source": [
    "legislation_france = FranceTaxBenefitSystem()\n",
    "\n",
    "resultat_actuel = legislation_france.parameters.impot_revenu.bareme_ir_depuis_1945.bareme(2024)\n",
    "\n",
    "print(\"Résultat actuel\")\n",
    "print(resultat_actuel)\n",
    "\n",
    "# Consultez la situation avec la reforme\n",
    "legislation_reforme = MaReforme(legislation_france)\n",
    "\n",
    "resultat_apres_reforme = legislation_reforme.parameters.impot_revenu.bareme_ir_depuis_1945.bareme(2024)\n",
    "\n",
    "print(\"Resultat après reforme\")\n",
    "print(resultat_apres_reforme)"
   ]
  },
  {
   "cell_type": "code",
   "execution_count": 25,
   "metadata": {},
   "outputs": [
    {
     "ename": "ValueError",
     "evalue": "You must provide either a start or a period",
     "output_type": "error",
     "traceback": [
      "\u001b[0;31m---------------------------------------------------------------------------\u001b[0m",
      "\u001b[0;31mValueError\u001b[0m                                Traceback (most recent call last)",
      "Cell \u001b[0;32mIn[25], line 2\u001b[0m\n\u001b[1;32m      1\u001b[0m legislation_reforme\u001b[38;5;241m.\u001b[39mparameters\u001b[38;5;241m.\u001b[39mimpot_revenu\u001b[38;5;241m.\u001b[39mcalcul_impot_revenu\u001b[38;5;241m.\u001b[39mplaf_qf\u001b[38;5;241m.\u001b[39mplafond_avantages_procures_par_demi_part\u001b[38;5;241m.\u001b[39mcelib\n\u001b[0;32m----> 2\u001b[0m \u001b[43mlegislation_reforme\u001b[49m\u001b[38;5;241;43m.\u001b[39;49m\u001b[43mparameters\u001b[49m\u001b[38;5;241;43m.\u001b[39;49m\u001b[43mimpot_revenu\u001b[49m\u001b[38;5;241;43m.\u001b[39;49m\u001b[43mcalcul_impot_revenu\u001b[49m\u001b[38;5;241;43m.\u001b[39;49m\u001b[43mplaf_qf\u001b[49m\u001b[38;5;241;43m.\u001b[39;49m\u001b[43mplafond_avantages_procures_par_demi_part\u001b[49m\u001b[38;5;241;43m.\u001b[39;49m\u001b[43mcelib\u001b[49m\u001b[38;5;241;43m.\u001b[39;49m\u001b[43mupdate\u001b[49m\u001b[43m(\u001b[49m\u001b[43m)\u001b[49m\n",
      "File \u001b[0;32m~/miniconda3/envs/openfisca/lib/python3.9/site-packages/openfisca_core/parameters/parameter.py:157\u001b[0m, in \u001b[0;36mParameter.update\u001b[0;34m(self, period, start, stop, value)\u001b[0m\n\u001b[1;32m    155\u001b[0m \u001b[38;5;28;01mif\u001b[39;00m start \u001b[38;5;129;01mis\u001b[39;00m \u001b[38;5;28;01mNone\u001b[39;00m:\n\u001b[1;32m    156\u001b[0m     msg \u001b[38;5;241m=\u001b[39m \u001b[38;5;124m\"\u001b[39m\u001b[38;5;124mYou must provide either a start or a period\u001b[39m\u001b[38;5;124m\"\u001b[39m\n\u001b[0;32m--> 157\u001b[0m     \u001b[38;5;28;01mraise\u001b[39;00m \u001b[38;5;167;01mValueError\u001b[39;00m(msg)\n\u001b[1;32m    158\u001b[0m start_str \u001b[38;5;241m=\u001b[39m \u001b[38;5;28mstr\u001b[39m(start)\n\u001b[1;32m    159\u001b[0m stop_str \u001b[38;5;241m=\u001b[39m \u001b[38;5;28mstr\u001b[39m(stop\u001b[38;5;241m.\u001b[39moffset(\u001b[38;5;241m1\u001b[39m, \u001b[38;5;124m\"\u001b[39m\u001b[38;5;124mday\u001b[39m\u001b[38;5;124m\"\u001b[39m)) \u001b[38;5;28;01mif\u001b[39;00m stop \u001b[38;5;28;01melse\u001b[39;00m \u001b[38;5;28;01mNone\u001b[39;00m\n",
      "\u001b[0;31mValueError\u001b[0m: You must provide either a start or a period"
     ]
    }
   ],
   "source": [
    "legislation_reforme.parameters.impot_revenu.calcul_impot_revenu.plaf_qf.plafond_avantages_procures_par_demi_part.celib\n",
    "legislation_reforme.parameters.impot_revenu.calcul_impot_revenu.plaf_qf.plafond_avantages_procures_par_demi_part.celib.update()\n"
   ]
  },
  {
   "cell_type": "markdown",
   "metadata": {},
   "source": [
    "### Definition du foyer fiscal sur lequel on va appliquer le calcul d'IR"
   ]
  },
  {
   "cell_type": "code",
   "execution_count": 4,
   "metadata": {},
   "outputs": [
    {
     "name": "stdout",
     "output_type": "stream",
     "text": [
      "{'familles': {'famille1': {'enfants': ['enfant1', 'enfant2'],\n",
      "                           'parents': ['parent1']}},\n",
      " 'foyers_fiscaux': {'foyer_fiscal1': {'caseT': {'2023': True, '2024': True},\n",
      "                                      'celibataire_ou_divorce': {'2023': True,\n",
      "                                                                 '2024': True},\n",
      "                                      'declarants': ['parent1'],\n",
      "                                      'personnes_a_charge': ['enfant1',\n",
      "                                                             'enfant2']}},\n",
      " 'individus': {'enfant1': {'age': {'2023-01': 12}},\n",
      "               'enfant2': {'age': {'2024-01': 18}},\n",
      "               'parent1': {'age': {'2015-01': 30},\n",
      "                           'salaire_de_base': {'2023': 100000,\n",
      "                                               '2024': 100000}}},\n",
      " 'menages': {'menage1': {'enfants': ['enfant1', 'enfant2'],\n",
      "                         'personne_de_reference': ['parent1']}}}\n"
     ]
    }
   ],
   "source": [
    "TEST_CASE = {\n",
    "    'individus': {\n",
    "        'parent1': {\n",
    "            'age': {'2015-01': 30},\n",
    "            'salaire_de_base': {'2023': 100000,'2024': 100000}\n",
    "        },\n",
    "        'enfant1': {\n",
    "            'age': {'2023-01': 12}\n",
    "        },\n",
    "        'enfant2': {\n",
    "            'age': {'2024-01': 18}\n",
    "        }\n",
    "    }\n",
    "}\n",
    "TEST_CASE['foyers_fiscaux'] = {\n",
    "    'foyer_fiscal1': {\n",
    "        'declarants': ['parent1'],\n",
    "        'personnes_a_charge': ['enfant1', 'enfant2'],\n",
    "        'celibataire_ou_divorce': {'2023': True, '2024': True},\n",
    "        'caseT': {'2023': True, '2024': True}\n",
    "    }\n",
    "}\n",
    "\n",
    "TEST_CASE['menages'] = {\n",
    "    'menage1': {\n",
    "        'personne_de_reference': ['parent1'],\n",
    "        'enfants': ['enfant1', 'enfant2']\n",
    "    }\n",
    "}\n",
    "\n",
    "TEST_CASE['familles'] = {\n",
    "    'famille1': {\n",
    "        'parents': ['parent1'],\n",
    "        'enfants': ['enfant1', 'enfant2']\n",
    "    }\n",
    "}\n",
    "\n",
    "# display full test case\n",
    "pprint(TEST_CASE)"
   ]
  },
  {
   "cell_type": "code",
   "execution_count": 5,
   "metadata": {},
   "outputs": [
    {
     "name": "stdout",
     "output_type": "stream",
     "text": [
      "[9655.527]\n",
      "[9663.533]\n",
      "[9521.227]\n",
      "[9663.533]\n"
     ]
    }
   ],
   "source": [
    "simulation_builder = SimulationBuilder()\n",
    "simulation_2023 = simulation_builder.build_from_entities(legislation_france, TEST_CASE)\n",
    "simulation_2024 = simulation_builder.build_from_entities(legislation_reforme, TEST_CASE)\n",
    "\n",
    "print(simulation_2023.calculate('ir_plaf_qf', '2024'))\n",
    "print(simulation_2023.calculate('ir_plaf_qf', '2023'))\n",
    "print(simulation_2024.calculate('ir_plaf_qf', '2024'))\n",
    "print(simulation_2024.calculate('ir_plaf_qf', '2023'))"
   ]
  },
  {
   "cell_type": "markdown",
   "metadata": {},
   "source": [
    "### Simulation faisant varier le salaire de base"
   ]
  },
  {
   "cell_type": "code",
   "execution_count": 6,
   "metadata": {},
   "outputs": [],
   "source": [
    "scenario = init_single_entity(\n",
    "    legislation_reforme.new_scenario(),\n",
    "    \n",
    "    # Axe declaration\n",
    "    axes = [[\n",
    "        dict(                       #  in a dictionary\n",
    "            count = 100,            # 'count' : indicates the number of step\n",
    "            min = 0,\n",
    "            max = 100000,\n",
    "            name = 'salaire_de_base', # the variable you want to make evolve\n",
    "            ),\n",
    "        ]],\n",
    "    \n",
    "    period = 2024,\n",
    "    parent1 = dict(\n",
    "        date_naissance = '1980-01-01',\n",
    "    )\n",
    ")\n",
    "\n",
    "simulation = scenario.new_simulation()"
   ]
  },
  {
   "cell_type": "code",
   "execution_count": 7,
   "metadata": {},
   "outputs": [
    {
     "data": {
      "text/plain": [
       "array([     0.     ,   1010.10114,   2020.2023 ,   3030.3027 ,\n",
       "         4040.4045 ,   5050.5054 ,   6060.6055 ,   7070.707  ,\n",
       "         8080.809  ,   9090.909  ,  10101.011  ,  11111.11   ,\n",
       "        12121.211  ,  13131.315  ,  14141.414  ,  15151.515  ,\n",
       "        16161.618  ,  17171.717  ,  18181.818  ,  19191.918  ,\n",
       "        20202.021  ,  21212.121  ,  22222.22   ,  23232.326  ,\n",
       "        24242.422  ,  25252.525  ,  26262.63   ,  27272.725  ,\n",
       "        28282.828  ,  29292.932  ,  30303.03   ,  31313.13   ,\n",
       "        32323.236  ,  33333.332  ,  34343.434  ,  35353.54   ,\n",
       "        36363.637  ,  37373.74   ,  38383.836  ,  39393.938  ,\n",
       "        40404.043  ,  41414.14   ,  42424.242  ,  43434.344  ,\n",
       "        44444.44   ,  45454.547  ,  46464.652  ,  47474.75   ,\n",
       "        48484.844  ,  49494.94   ,  50505.05   ,  51515.152  ,\n",
       "        52525.26   ,  53535.363  ,  54545.45   ,  55555.55   ,\n",
       "        56565.656  ,  57575.76   ,  58585.863  ,  59595.953  ,\n",
       "        60606.06   ,  61616.16   ,  62626.26   ,  63636.37   ,\n",
       "        64646.473  ,  65656.555  ,  66666.664  ,  67676.766  ,\n",
       "        68686.87   ,  69696.98   ,  70707.08   ,  71717.164  ,\n",
       "        72727.27   ,  73737.375  ,  74747.48   ,  75757.586  ,\n",
       "        76767.67   ,  77777.78   ,  78787.875  ,  79797.97   ,\n",
       "        80808.086  ,  81818.164  ,  82828.28   ,  83838.38   ,\n",
       "        84848.484  ,  85858.586  ,  86868.69   ,  87878.805  ,\n",
       "        88888.88   ,  89899.     ,  90909.09   ,  91919.19   ,\n",
       "        92929.305  ,  93939.38   ,  94949.5    ,  95959.59   ,\n",
       "        96969.69   ,  97979.805  ,  98989.88   , 100000.01   ],\n",
       "      dtype=float32)"
      ]
     },
     "execution_count": 7,
     "metadata": {},
     "output_type": "execute_result"
    }
   ],
   "source": [
    "simulation.calculate_add('salaire_de_base', 2024)"
   ]
  },
  {
   "cell_type": "code",
   "execution_count": 8,
   "metadata": {},
   "outputs": [
    {
     "data": {
      "application/vnd.plotly.v1+json": {
       "config": {
        "plotlyServerURL": "https://plot.ly"
       },
       "data": [
        {
         "hovertemplate": "TMI=0.0<br>variable=IR<br>salaire=%{x}<br>value=%{y}<extra></extra>",
         "legendgroup": "0.0",
         "line": {
          "color": "#636efa",
          "dash": "solid"
         },
         "marker": {
          "symbol": "circle"
         },
         "mode": "lines",
         "name": "0.0",
         "orientation": "v",
         "showlegend": true,
         "type": "scatter",
         "x": [
          0,
          1010.1011352539062,
          2020.2022705078125,
          3030.302734375,
          4040.404541015625,
          5050.50537109375,
          6060.60546875,
          7070.70703125,
          8080.80908203125,
          9090.9091796875,
          10101.0107421875,
          11111.1103515625,
          12121.2109375,
          13131.3154296875,
          14141.4140625,
          15151.5146484375
         ],
         "xaxis": "x",
         "y": [
          0,
          0,
          0,
          0,
          0,
          0,
          0,
          0,
          0,
          0,
          0,
          0,
          0,
          0,
          0,
          0
         ],
         "yaxis": "y"
        },
        {
         "hovertemplate": "TMI=0.11<br>variable=IR<br>salaire=%{x}<br>value=%{y}<extra></extra>",
         "legendgroup": "0.11",
         "line": {
          "color": "#EF553B",
          "dash": "solid"
         },
         "marker": {
          "symbol": "circle"
         },
         "mode": "lines",
         "name": "0.11",
         "orientation": "v",
         "showlegend": true,
         "type": "scatter",
         "x": [
          16161.6181640625,
          17171.716796875,
          18181.818359375,
          19191.91796875,
          20202.021484375,
          21212.12109375,
          22222.220703125,
          23232.326171875,
          24242.421875,
          25252.525390625,
          26262.630859375,
          27272.724609375,
          28282.828125,
          29292.931640625,
          30303.029296875,
          31313.130859375,
          32323.236328125,
          33333.33203125,
          34343.43359375,
          35353.5390625,
          36363.63671875,
          37373.73828125,
          38383.8359375,
          39393.9375
         ],
         "xaxis": "x",
         "y": [
          44.992469787597656,
          126.969970703125,
          208.9620819091797,
          290.9664306640625,
          372.9573669433594,
          454.9486083984375,
          537.0374145507812,
          619.0415649414062,
          701.0327758789062,
          783.0111694335938,
          865.0159301757812,
          946.99365234375,
          1029.0955810546875,
          1111.112548828125,
          1193.077880859375,
          1275.0693359375,
          1357.074951171875,
          1439.0516357421875,
          1521.1669921875,
          1603.15869140625,
          1685.14990234375,
          1767.1279296875,
          1849.1197509765625,
          1931.11083984375
         ],
         "yaxis": "y"
        },
        {
         "hovertemplate": "TMI=0.3<br>variable=IR<br>salaire=%{x}<br>value=%{y}<extra></extra>",
         "legendgroup": "0.3",
         "line": {
          "color": "#00cc96",
          "dash": "solid"
         },
         "marker": {
          "symbol": "circle"
         },
         "mode": "lines",
         "name": "0.3",
         "orientation": "v",
         "showlegend": true,
         "type": "scatter",
         "x": [
          40404.04296875,
          41414.140625,
          42424.2421875,
          43434.34375,
          44444.44140625,
          45454.546875,
          46464.65234375,
          47474.75,
          48484.84375,
          49494.94140625,
          50505.05078125,
          51515.15234375,
          52525.26171875,
          53535.36328125,
          54545.44921875,
          55555.55078125,
          56565.65625,
          57575.76171875,
          58585.86328125,
          59595.953125,
          60606.05859375,
          61616.16015625,
          62626.26171875,
          63636.37109375,
          64646.47265625,
          65656.5546875,
          66666.6640625,
          67676.765625,
          68686.8671875,
          69696.9765625,
          70707.078125,
          71717.1640625,
          72727.2734375,
          73737.375,
          74747.4765625,
          75757.5859375,
          76767.671875,
          77777.78125,
          78787.875,
          79797.96875,
          80808.0859375,
          81818.1640625,
          82828.28125,
          83838.3828125,
          84848.484375,
          85858.5859375,
          86868.6875,
          87878.8046875,
          88888.8828125,
          89899,
          90909.09375,
          91919.1875,
          92929.3046875,
          93939.3828125,
          94949.5,
          95959.59375,
          96969.6875,
          97979.8046875,
          98989.8828125,
          100000.0078125
         ],
         "xaxis": "x",
         "y": [
          2098.5078125,
          2322.15771484375,
          2545.770263671875,
          2769.31005859375,
          2992.958984375,
          3215.47216796875,
          3423.52685546875,
          3650.03857421875,
          3876.5234375,
          4103.06884765625,
          4329.52197265625,
          4556.03759765625,
          4782.51611328125,
          5008.99658203125,
          5235.81298828125,
          5462.29150390625,
          5688.77783203125,
          5915.2578125,
          6141.7353515625,
          6368.251953125,
          6594.80712890625,
          6821.24951171875,
          7047.73193359375,
          7274.28369140625,
          7501.0341796875,
          7727.50830078125,
          7954.02587890625,
          8180.51220703125,
          8406.99609375,
          8633.5029296875,
          8859.9873046875,
          9086.50390625,
          9313.021484375,
          9539.5029296875,
          9766.283203125,
          9992.798828125,
          10219.24609375,
          10445.765625,
          10672.2744140625,
          10898.72265625,
          11125.20703125,
          11351.71875,
          11578.26953125,
          11805.0234375,
          12031.5390625,
          12258.0185546875,
          12484.5,
          12711.013671875,
          12937.5,
          13163.9765625,
          13390.4619140625,
          13616.9765625,
          13843.455078125,
          14070.3017578125,
          14296.75,
          14523.236328125,
          14749.78515625,
          14976.2666015625,
          15202.7109375,
          15429.2265625
         ],
         "yaxis": "y"
        }
       ],
       "layout": {
        "legend": {
         "title": {
          "text": "TMI"
         },
         "tracegroupgap": 0
        },
        "template": {
         "data": {
          "bar": [
           {
            "error_x": {
             "color": "#2a3f5f"
            },
            "error_y": {
             "color": "#2a3f5f"
            },
            "marker": {
             "line": {
              "color": "#E5ECF6",
              "width": 0.5
             },
             "pattern": {
              "fillmode": "overlay",
              "size": 10,
              "solidity": 0.2
             }
            },
            "type": "bar"
           }
          ],
          "barpolar": [
           {
            "marker": {
             "line": {
              "color": "#E5ECF6",
              "width": 0.5
             },
             "pattern": {
              "fillmode": "overlay",
              "size": 10,
              "solidity": 0.2
             }
            },
            "type": "barpolar"
           }
          ],
          "carpet": [
           {
            "aaxis": {
             "endlinecolor": "#2a3f5f",
             "gridcolor": "white",
             "linecolor": "white",
             "minorgridcolor": "white",
             "startlinecolor": "#2a3f5f"
            },
            "baxis": {
             "endlinecolor": "#2a3f5f",
             "gridcolor": "white",
             "linecolor": "white",
             "minorgridcolor": "white",
             "startlinecolor": "#2a3f5f"
            },
            "type": "carpet"
           }
          ],
          "choropleth": [
           {
            "colorbar": {
             "outlinewidth": 0,
             "ticks": ""
            },
            "type": "choropleth"
           }
          ],
          "contour": [
           {
            "colorbar": {
             "outlinewidth": 0,
             "ticks": ""
            },
            "colorscale": [
             [
              0,
              "#0d0887"
             ],
             [
              0.1111111111111111,
              "#46039f"
             ],
             [
              0.2222222222222222,
              "#7201a8"
             ],
             [
              0.3333333333333333,
              "#9c179e"
             ],
             [
              0.4444444444444444,
              "#bd3786"
             ],
             [
              0.5555555555555556,
              "#d8576b"
             ],
             [
              0.6666666666666666,
              "#ed7953"
             ],
             [
              0.7777777777777778,
              "#fb9f3a"
             ],
             [
              0.8888888888888888,
              "#fdca26"
             ],
             [
              1,
              "#f0f921"
             ]
            ],
            "type": "contour"
           }
          ],
          "contourcarpet": [
           {
            "colorbar": {
             "outlinewidth": 0,
             "ticks": ""
            },
            "type": "contourcarpet"
           }
          ],
          "heatmap": [
           {
            "colorbar": {
             "outlinewidth": 0,
             "ticks": ""
            },
            "colorscale": [
             [
              0,
              "#0d0887"
             ],
             [
              0.1111111111111111,
              "#46039f"
             ],
             [
              0.2222222222222222,
              "#7201a8"
             ],
             [
              0.3333333333333333,
              "#9c179e"
             ],
             [
              0.4444444444444444,
              "#bd3786"
             ],
             [
              0.5555555555555556,
              "#d8576b"
             ],
             [
              0.6666666666666666,
              "#ed7953"
             ],
             [
              0.7777777777777778,
              "#fb9f3a"
             ],
             [
              0.8888888888888888,
              "#fdca26"
             ],
             [
              1,
              "#f0f921"
             ]
            ],
            "type": "heatmap"
           }
          ],
          "heatmapgl": [
           {
            "colorbar": {
             "outlinewidth": 0,
             "ticks": ""
            },
            "colorscale": [
             [
              0,
              "#0d0887"
             ],
             [
              0.1111111111111111,
              "#46039f"
             ],
             [
              0.2222222222222222,
              "#7201a8"
             ],
             [
              0.3333333333333333,
              "#9c179e"
             ],
             [
              0.4444444444444444,
              "#bd3786"
             ],
             [
              0.5555555555555556,
              "#d8576b"
             ],
             [
              0.6666666666666666,
              "#ed7953"
             ],
             [
              0.7777777777777778,
              "#fb9f3a"
             ],
             [
              0.8888888888888888,
              "#fdca26"
             ],
             [
              1,
              "#f0f921"
             ]
            ],
            "type": "heatmapgl"
           }
          ],
          "histogram": [
           {
            "marker": {
             "pattern": {
              "fillmode": "overlay",
              "size": 10,
              "solidity": 0.2
             }
            },
            "type": "histogram"
           }
          ],
          "histogram2d": [
           {
            "colorbar": {
             "outlinewidth": 0,
             "ticks": ""
            },
            "colorscale": [
             [
              0,
              "#0d0887"
             ],
             [
              0.1111111111111111,
              "#46039f"
             ],
             [
              0.2222222222222222,
              "#7201a8"
             ],
             [
              0.3333333333333333,
              "#9c179e"
             ],
             [
              0.4444444444444444,
              "#bd3786"
             ],
             [
              0.5555555555555556,
              "#d8576b"
             ],
             [
              0.6666666666666666,
              "#ed7953"
             ],
             [
              0.7777777777777778,
              "#fb9f3a"
             ],
             [
              0.8888888888888888,
              "#fdca26"
             ],
             [
              1,
              "#f0f921"
             ]
            ],
            "type": "histogram2d"
           }
          ],
          "histogram2dcontour": [
           {
            "colorbar": {
             "outlinewidth": 0,
             "ticks": ""
            },
            "colorscale": [
             [
              0,
              "#0d0887"
             ],
             [
              0.1111111111111111,
              "#46039f"
             ],
             [
              0.2222222222222222,
              "#7201a8"
             ],
             [
              0.3333333333333333,
              "#9c179e"
             ],
             [
              0.4444444444444444,
              "#bd3786"
             ],
             [
              0.5555555555555556,
              "#d8576b"
             ],
             [
              0.6666666666666666,
              "#ed7953"
             ],
             [
              0.7777777777777778,
              "#fb9f3a"
             ],
             [
              0.8888888888888888,
              "#fdca26"
             ],
             [
              1,
              "#f0f921"
             ]
            ],
            "type": "histogram2dcontour"
           }
          ],
          "mesh3d": [
           {
            "colorbar": {
             "outlinewidth": 0,
             "ticks": ""
            },
            "type": "mesh3d"
           }
          ],
          "parcoords": [
           {
            "line": {
             "colorbar": {
              "outlinewidth": 0,
              "ticks": ""
             }
            },
            "type": "parcoords"
           }
          ],
          "pie": [
           {
            "automargin": true,
            "type": "pie"
           }
          ],
          "scatter": [
           {
            "fillpattern": {
             "fillmode": "overlay",
             "size": 10,
             "solidity": 0.2
            },
            "type": "scatter"
           }
          ],
          "scatter3d": [
           {
            "line": {
             "colorbar": {
              "outlinewidth": 0,
              "ticks": ""
             }
            },
            "marker": {
             "colorbar": {
              "outlinewidth": 0,
              "ticks": ""
             }
            },
            "type": "scatter3d"
           }
          ],
          "scattercarpet": [
           {
            "marker": {
             "colorbar": {
              "outlinewidth": 0,
              "ticks": ""
             }
            },
            "type": "scattercarpet"
           }
          ],
          "scattergeo": [
           {
            "marker": {
             "colorbar": {
              "outlinewidth": 0,
              "ticks": ""
             }
            },
            "type": "scattergeo"
           }
          ],
          "scattergl": [
           {
            "marker": {
             "colorbar": {
              "outlinewidth": 0,
              "ticks": ""
             }
            },
            "type": "scattergl"
           }
          ],
          "scattermapbox": [
           {
            "marker": {
             "colorbar": {
              "outlinewidth": 0,
              "ticks": ""
             }
            },
            "type": "scattermapbox"
           }
          ],
          "scatterpolar": [
           {
            "marker": {
             "colorbar": {
              "outlinewidth": 0,
              "ticks": ""
             }
            },
            "type": "scatterpolar"
           }
          ],
          "scatterpolargl": [
           {
            "marker": {
             "colorbar": {
              "outlinewidth": 0,
              "ticks": ""
             }
            },
            "type": "scatterpolargl"
           }
          ],
          "scatterternary": [
           {
            "marker": {
             "colorbar": {
              "outlinewidth": 0,
              "ticks": ""
             }
            },
            "type": "scatterternary"
           }
          ],
          "surface": [
           {
            "colorbar": {
             "outlinewidth": 0,
             "ticks": ""
            },
            "colorscale": [
             [
              0,
              "#0d0887"
             ],
             [
              0.1111111111111111,
              "#46039f"
             ],
             [
              0.2222222222222222,
              "#7201a8"
             ],
             [
              0.3333333333333333,
              "#9c179e"
             ],
             [
              0.4444444444444444,
              "#bd3786"
             ],
             [
              0.5555555555555556,
              "#d8576b"
             ],
             [
              0.6666666666666666,
              "#ed7953"
             ],
             [
              0.7777777777777778,
              "#fb9f3a"
             ],
             [
              0.8888888888888888,
              "#fdca26"
             ],
             [
              1,
              "#f0f921"
             ]
            ],
            "type": "surface"
           }
          ],
          "table": [
           {
            "cells": {
             "fill": {
              "color": "#EBF0F8"
             },
             "line": {
              "color": "white"
             }
            },
            "header": {
             "fill": {
              "color": "#C8D4E3"
             },
             "line": {
              "color": "white"
             }
            },
            "type": "table"
           }
          ]
         },
         "layout": {
          "annotationdefaults": {
           "arrowcolor": "#2a3f5f",
           "arrowhead": 0,
           "arrowwidth": 1
          },
          "autotypenumbers": "strict",
          "coloraxis": {
           "colorbar": {
            "outlinewidth": 0,
            "ticks": ""
           }
          },
          "colorscale": {
           "diverging": [
            [
             0,
             "#8e0152"
            ],
            [
             0.1,
             "#c51b7d"
            ],
            [
             0.2,
             "#de77ae"
            ],
            [
             0.3,
             "#f1b6da"
            ],
            [
             0.4,
             "#fde0ef"
            ],
            [
             0.5,
             "#f7f7f7"
            ],
            [
             0.6,
             "#e6f5d0"
            ],
            [
             0.7,
             "#b8e186"
            ],
            [
             0.8,
             "#7fbc41"
            ],
            [
             0.9,
             "#4d9221"
            ],
            [
             1,
             "#276419"
            ]
           ],
           "sequential": [
            [
             0,
             "#0d0887"
            ],
            [
             0.1111111111111111,
             "#46039f"
            ],
            [
             0.2222222222222222,
             "#7201a8"
            ],
            [
             0.3333333333333333,
             "#9c179e"
            ],
            [
             0.4444444444444444,
             "#bd3786"
            ],
            [
             0.5555555555555556,
             "#d8576b"
            ],
            [
             0.6666666666666666,
             "#ed7953"
            ],
            [
             0.7777777777777778,
             "#fb9f3a"
            ],
            [
             0.8888888888888888,
             "#fdca26"
            ],
            [
             1,
             "#f0f921"
            ]
           ],
           "sequentialminus": [
            [
             0,
             "#0d0887"
            ],
            [
             0.1111111111111111,
             "#46039f"
            ],
            [
             0.2222222222222222,
             "#7201a8"
            ],
            [
             0.3333333333333333,
             "#9c179e"
            ],
            [
             0.4444444444444444,
             "#bd3786"
            ],
            [
             0.5555555555555556,
             "#d8576b"
            ],
            [
             0.6666666666666666,
             "#ed7953"
            ],
            [
             0.7777777777777778,
             "#fb9f3a"
            ],
            [
             0.8888888888888888,
             "#fdca26"
            ],
            [
             1,
             "#f0f921"
            ]
           ]
          },
          "colorway": [
           "#636efa",
           "#EF553B",
           "#00cc96",
           "#ab63fa",
           "#FFA15A",
           "#19d3f3",
           "#FF6692",
           "#B6E880",
           "#FF97FF",
           "#FECB52"
          ],
          "font": {
           "color": "#2a3f5f"
          },
          "geo": {
           "bgcolor": "white",
           "lakecolor": "white",
           "landcolor": "#E5ECF6",
           "showlakes": true,
           "showland": true,
           "subunitcolor": "white"
          },
          "hoverlabel": {
           "align": "left"
          },
          "hovermode": "closest",
          "mapbox": {
           "style": "light"
          },
          "paper_bgcolor": "white",
          "plot_bgcolor": "#E5ECF6",
          "polar": {
           "angularaxis": {
            "gridcolor": "white",
            "linecolor": "white",
            "ticks": ""
           },
           "bgcolor": "#E5ECF6",
           "radialaxis": {
            "gridcolor": "white",
            "linecolor": "white",
            "ticks": ""
           }
          },
          "scene": {
           "xaxis": {
            "backgroundcolor": "#E5ECF6",
            "gridcolor": "white",
            "gridwidth": 2,
            "linecolor": "white",
            "showbackground": true,
            "ticks": "",
            "zerolinecolor": "white"
           },
           "yaxis": {
            "backgroundcolor": "#E5ECF6",
            "gridcolor": "white",
            "gridwidth": 2,
            "linecolor": "white",
            "showbackground": true,
            "ticks": "",
            "zerolinecolor": "white"
           },
           "zaxis": {
            "backgroundcolor": "#E5ECF6",
            "gridcolor": "white",
            "gridwidth": 2,
            "linecolor": "white",
            "showbackground": true,
            "ticks": "",
            "zerolinecolor": "white"
           }
          },
          "shapedefaults": {
           "line": {
            "color": "#2a3f5f"
           }
          },
          "ternary": {
           "aaxis": {
            "gridcolor": "white",
            "linecolor": "white",
            "ticks": ""
           },
           "baxis": {
            "gridcolor": "white",
            "linecolor": "white",
            "ticks": ""
           },
           "bgcolor": "#E5ECF6",
           "caxis": {
            "gridcolor": "white",
            "linecolor": "white",
            "ticks": ""
           }
          },
          "title": {
           "x": 0.05
          },
          "xaxis": {
           "automargin": true,
           "gridcolor": "white",
           "linecolor": "white",
           "ticks": "",
           "title": {
            "standoff": 15
           },
           "zerolinecolor": "white",
           "zerolinewidth": 2
          },
          "yaxis": {
           "automargin": true,
           "gridcolor": "white",
           "linecolor": "white",
           "ticks": "",
           "title": {
            "standoff": 15
           },
           "zerolinecolor": "white",
           "zerolinewidth": 2
          }
         }
        },
        "title": {
         "text": "Evolution IR en fonction du salaire"
        },
        "xaxis": {
         "anchor": "y",
         "domain": [
          0,
          1
         ],
         "title": {
          "text": "salaire"
         }
        },
        "yaxis": {
         "anchor": "x",
         "domain": [
          0,
          1
         ],
         "title": {
          "text": "value"
         }
        }
       }
      }
     },
     "metadata": {},
     "output_type": "display_data"
    }
   ],
   "source": [
    "income_tax = simulation.calculate('ir_plaf_qf', 2024)\n",
    "TMI = simulation.calculate('ir_tranche', 2024)\n",
    "gross_wage = simulation.calculate_add('salaire_de_base', 2024)\n",
    "taxable_income = simulation.calculate_add('salaire_imposable', 2024)\n",
    "\n",
    "df_results = pd.DataFrame.from_dict({'salaire': gross_wage, 'IR': income_tax, 'TMI': TMI})\n",
    "tranches_bareme_en_cours = legislation_reforme.parameters.impot_revenu.bareme_ir_depuis_1945.bareme(2024).rates\n",
    "df_results['TMI'] = df_results['TMI'].apply(lambda x: tranches_bareme_en_cours[x])\n",
    "df_results\n",
    "\n",
    "fig = px.line(df_results, x=\"salaire\", y=[\"IR\"], color='TMI',\n",
    "              title='Evolution IR en fonction du salaire')\n",
    "fig.show()"
   ]
  },
  {
   "cell_type": "markdown",
   "metadata": {},
   "source": [
    "https://openfisca.org/doc/simulate/replicate-simulation-inputs.html#"
   ]
  },
  {
   "cell_type": "code",
   "execution_count": 9,
   "metadata": {},
   "outputs": [
    {
     "data": {
      "application/vnd.plotly.v1+json": {
       "config": {
        "plotlyServerURL": "https://plot.ly"
       },
       "data": [
        {
         "hovertemplate": "variable=IR_2023<br>revenu=%{x}<br>value=%{y}<extra></extra>",
         "legendgroup": "IR_2023",
         "line": {
          "color": "#636efa",
          "dash": "solid"
         },
         "marker": {
          "symbol": "circle"
         },
         "mode": "lines",
         "name": "IR_2023",
         "orientation": "v",
         "showlegend": true,
         "type": "scatter",
         "x": [
          0,
          1010.1011352539062,
          2020.2022705078125,
          3030.302734375,
          4040.404541015625,
          5050.50537109375,
          6060.60546875,
          7070.70703125,
          8080.80908203125,
          9090.9091796875,
          10101.0107421875,
          11111.1103515625,
          12121.2109375,
          13131.3154296875,
          14141.4140625,
          15151.5146484375,
          16161.6181640625,
          17171.716796875,
          18181.818359375,
          19191.91796875,
          20202.021484375,
          21212.12109375,
          22222.220703125,
          23232.326171875,
          24242.421875,
          25252.525390625,
          26262.630859375,
          27272.724609375,
          28282.828125,
          29292.931640625,
          30303.029296875,
          31313.130859375,
          32323.236328125,
          33333.33203125,
          34343.43359375,
          35353.5390625,
          36363.63671875,
          37373.73828125,
          38383.8359375,
          39393.9375,
          40404.04296875,
          41414.140625,
          42424.2421875,
          43434.34375,
          44444.44140625,
          45454.546875,
          46464.65234375,
          47474.75,
          48484.84375,
          49494.94140625,
          50505.05078125,
          51515.15234375,
          52525.26171875,
          53535.36328125,
          54545.44921875,
          55555.55078125,
          56565.65625,
          57575.76171875,
          58585.86328125,
          59595.953125,
          60606.05859375,
          61616.16015625,
          62626.26171875,
          63636.37109375,
          64646.47265625,
          65656.5546875,
          66666.6640625,
          67676.765625,
          68686.8671875,
          69696.9765625,
          70707.078125,
          71717.1640625,
          72727.2734375,
          73737.375,
          74747.4765625,
          75757.5859375,
          76767.671875,
          77777.78125,
          78787.875,
          79797.96875,
          80808.0859375,
          81818.1640625,
          82828.28125,
          83838.3828125,
          84848.484375,
          85858.5859375,
          86868.6875,
          87878.8046875,
          88888.8828125,
          89899,
          90909.09375,
          91919.1875,
          92929.3046875,
          93939.3828125,
          94949.5,
          95959.59375,
          96969.6875,
          97979.8046875,
          98989.8828125,
          100000.0078125
         ],
         "xaxis": "x",
         "y": [
          0,
          0,
          0,
          0,
          0,
          0,
          0,
          0,
          0,
          0,
          0,
          0,
          0,
          0,
          0,
          0,
          0,
          0,
          0,
          0,
          0,
          0,
          0,
          0,
          0,
          0,
          0,
          0,
          0,
          0,
          0,
          0,
          0,
          0,
          0,
          0,
          0,
          0,
          0,
          0,
          0,
          0,
          0,
          0,
          0,
          0,
          0,
          0,
          0,
          0,
          0,
          0,
          61.63276290893555,
          144.6771240234375,
          227.8560333251953,
          310.88616943359375,
          393.9283752441406,
          476.98590087890625,
          560.028076171875,
          643.0845336914062,
          726.1401977539062,
          809.182373046875,
          892.2133178710938,
          975.280517578125,
          1058.435791015625,
          1141.477783203125,
          1224.5205078125,
          1307.5643310546875,
          1390.6226806640625,
          1473.6761474609375,
          1556.717529296875,
          1639.76220703125,
          1722.8304443359375,
          1805.9716796875,
          1889.013671875,
          1972.069580078125,
          2055.101318359375,
          2138.158203125,
          2221.213134765625,
          2304.256103515625,
          2387.299072265625,
          2586.0625,
          2812.576171875,
          3039.35546875,
          3265.845703125,
          3492.3203125,
          3718.8359375,
          3945.35546875,
          4171.8056640625,
          4398.2802734375,
          4624.80078125,
          4851.3173828125,
          5077.798828125,
          5304.61328125,
          5531.08984375,
          5757.54296875,
          5984.08984375,
          6210.568359375,
          6437.0166015625,
          6663.533203125
         ],
         "yaxis": "y"
        },
        {
         "hovertemplate": "variable=IR_2024<br>revenu=%{x}<br>value=%{y}<extra></extra>",
         "legendgroup": "IR_2024",
         "line": {
          "color": "#EF553B",
          "dash": "solid"
         },
         "marker": {
          "symbol": "circle"
         },
         "mode": "lines",
         "name": "IR_2024",
         "orientation": "v",
         "showlegend": true,
         "type": "scatter",
         "x": [
          0,
          1010.1011352539062,
          2020.2022705078125,
          3030.302734375,
          4040.404541015625,
          5050.50537109375,
          6060.60546875,
          7070.70703125,
          8080.80908203125,
          9090.9091796875,
          10101.0107421875,
          11111.1103515625,
          12121.2109375,
          13131.3154296875,
          14141.4140625,
          15151.5146484375,
          16161.6181640625,
          17171.716796875,
          18181.818359375,
          19191.91796875,
          20202.021484375,
          21212.12109375,
          22222.220703125,
          23232.326171875,
          24242.421875,
          25252.525390625,
          26262.630859375,
          27272.724609375,
          28282.828125,
          29292.931640625,
          30303.029296875,
          31313.130859375,
          32323.236328125,
          33333.33203125,
          34343.43359375,
          35353.5390625,
          36363.63671875,
          37373.73828125,
          38383.8359375,
          39393.9375,
          40404.04296875,
          41414.140625,
          42424.2421875,
          43434.34375,
          44444.44140625,
          45454.546875,
          46464.65234375,
          47474.75,
          48484.84375,
          49494.94140625,
          50505.05078125,
          51515.15234375,
          52525.26171875,
          53535.36328125,
          54545.44921875,
          55555.55078125,
          56565.65625,
          57575.76171875,
          58585.86328125,
          59595.953125,
          60606.05859375,
          61616.16015625,
          62626.26171875,
          63636.37109375,
          64646.47265625,
          65656.5546875,
          66666.6640625,
          67676.765625,
          68686.8671875,
          69696.9765625,
          70707.078125,
          71717.1640625,
          72727.2734375,
          73737.375,
          74747.4765625,
          75757.5859375,
          76767.671875,
          77777.78125,
          78787.875,
          79797.96875,
          80808.0859375,
          81818.1640625,
          82828.28125,
          83838.3828125,
          84848.484375,
          85858.5859375,
          86868.6875,
          87878.8046875,
          88888.8828125,
          89899,
          90909.09375,
          91919.1875,
          92929.3046875,
          93939.3828125,
          94949.5,
          95959.59375,
          96969.6875,
          97979.8046875,
          98989.8828125,
          100000.0078125
         ],
         "xaxis": "x",
         "y": [
          0,
          0,
          0,
          0,
          0,
          0,
          0,
          0,
          0,
          0,
          0,
          0,
          0,
          0,
          0,
          0,
          0,
          0,
          0,
          0,
          0,
          0,
          0,
          0,
          0,
          0,
          0,
          0,
          0,
          0,
          0,
          0,
          0,
          0,
          0,
          0,
          0,
          0,
          0,
          0,
          0,
          0,
          0,
          0,
          0,
          0,
          48.252296447753906,
          131.3065948486328,
          214.3509521484375,
          297.4176025390625,
          380.4504089355469,
          463.50604248046875,
          546.5482788085938,
          629.5910034179688,
          712.7570190429688,
          795.7992553710938,
          878.8441162109375,
          961.8869018554688,
          1044.9285888671875,
          1127.9847412109375,
          1211.054931640625,
          1294.083984375,
          1377.12744140625,
          1460.1962890625,
          1543.338134765625,
          1626.3790283203125,
          1709.4354248046875,
          1792.4801025390625,
          1875.524169921875,
          1958.576904296875,
          2041.6209716796875,
          2124.6767578125,
          2207.7333984375,
          2290.77685546875,
          2373.929443359375,
          2584.798828125,
          2811.24609375,
          3037.765625,
          3264.2744140625,
          3490.72265625,
          3717.20703125,
          3943.71875,
          4170.26953125,
          4397.0234375,
          4623.5390625,
          4850.0185546875,
          5076.5,
          5303.013671875,
          5529.5,
          5755.9765625,
          5982.4619140625,
          6208.9765625,
          6435.455078125,
          6662.3017578125,
          6888.75,
          7115.236328125,
          7341.78515625,
          7568.2666015625,
          7794.7109375,
          8021.2265625
         ],
         "yaxis": "y"
        }
       ],
       "layout": {
        "legend": {
         "title": {
          "text": "variable"
         },
         "tracegroupgap": 0
        },
        "margin": {
         "t": 60
        },
        "template": {
         "data": {
          "bar": [
           {
            "error_x": {
             "color": "#2a3f5f"
            },
            "error_y": {
             "color": "#2a3f5f"
            },
            "marker": {
             "line": {
              "color": "#E5ECF6",
              "width": 0.5
             },
             "pattern": {
              "fillmode": "overlay",
              "size": 10,
              "solidity": 0.2
             }
            },
            "type": "bar"
           }
          ],
          "barpolar": [
           {
            "marker": {
             "line": {
              "color": "#E5ECF6",
              "width": 0.5
             },
             "pattern": {
              "fillmode": "overlay",
              "size": 10,
              "solidity": 0.2
             }
            },
            "type": "barpolar"
           }
          ],
          "carpet": [
           {
            "aaxis": {
             "endlinecolor": "#2a3f5f",
             "gridcolor": "white",
             "linecolor": "white",
             "minorgridcolor": "white",
             "startlinecolor": "#2a3f5f"
            },
            "baxis": {
             "endlinecolor": "#2a3f5f",
             "gridcolor": "white",
             "linecolor": "white",
             "minorgridcolor": "white",
             "startlinecolor": "#2a3f5f"
            },
            "type": "carpet"
           }
          ],
          "choropleth": [
           {
            "colorbar": {
             "outlinewidth": 0,
             "ticks": ""
            },
            "type": "choropleth"
           }
          ],
          "contour": [
           {
            "colorbar": {
             "outlinewidth": 0,
             "ticks": ""
            },
            "colorscale": [
             [
              0,
              "#0d0887"
             ],
             [
              0.1111111111111111,
              "#46039f"
             ],
             [
              0.2222222222222222,
              "#7201a8"
             ],
             [
              0.3333333333333333,
              "#9c179e"
             ],
             [
              0.4444444444444444,
              "#bd3786"
             ],
             [
              0.5555555555555556,
              "#d8576b"
             ],
             [
              0.6666666666666666,
              "#ed7953"
             ],
             [
              0.7777777777777778,
              "#fb9f3a"
             ],
             [
              0.8888888888888888,
              "#fdca26"
             ],
             [
              1,
              "#f0f921"
             ]
            ],
            "type": "contour"
           }
          ],
          "contourcarpet": [
           {
            "colorbar": {
             "outlinewidth": 0,
             "ticks": ""
            },
            "type": "contourcarpet"
           }
          ],
          "heatmap": [
           {
            "colorbar": {
             "outlinewidth": 0,
             "ticks": ""
            },
            "colorscale": [
             [
              0,
              "#0d0887"
             ],
             [
              0.1111111111111111,
              "#46039f"
             ],
             [
              0.2222222222222222,
              "#7201a8"
             ],
             [
              0.3333333333333333,
              "#9c179e"
             ],
             [
              0.4444444444444444,
              "#bd3786"
             ],
             [
              0.5555555555555556,
              "#d8576b"
             ],
             [
              0.6666666666666666,
              "#ed7953"
             ],
             [
              0.7777777777777778,
              "#fb9f3a"
             ],
             [
              0.8888888888888888,
              "#fdca26"
             ],
             [
              1,
              "#f0f921"
             ]
            ],
            "type": "heatmap"
           }
          ],
          "heatmapgl": [
           {
            "colorbar": {
             "outlinewidth": 0,
             "ticks": ""
            },
            "colorscale": [
             [
              0,
              "#0d0887"
             ],
             [
              0.1111111111111111,
              "#46039f"
             ],
             [
              0.2222222222222222,
              "#7201a8"
             ],
             [
              0.3333333333333333,
              "#9c179e"
             ],
             [
              0.4444444444444444,
              "#bd3786"
             ],
             [
              0.5555555555555556,
              "#d8576b"
             ],
             [
              0.6666666666666666,
              "#ed7953"
             ],
             [
              0.7777777777777778,
              "#fb9f3a"
             ],
             [
              0.8888888888888888,
              "#fdca26"
             ],
             [
              1,
              "#f0f921"
             ]
            ],
            "type": "heatmapgl"
           }
          ],
          "histogram": [
           {
            "marker": {
             "pattern": {
              "fillmode": "overlay",
              "size": 10,
              "solidity": 0.2
             }
            },
            "type": "histogram"
           }
          ],
          "histogram2d": [
           {
            "colorbar": {
             "outlinewidth": 0,
             "ticks": ""
            },
            "colorscale": [
             [
              0,
              "#0d0887"
             ],
             [
              0.1111111111111111,
              "#46039f"
             ],
             [
              0.2222222222222222,
              "#7201a8"
             ],
             [
              0.3333333333333333,
              "#9c179e"
             ],
             [
              0.4444444444444444,
              "#bd3786"
             ],
             [
              0.5555555555555556,
              "#d8576b"
             ],
             [
              0.6666666666666666,
              "#ed7953"
             ],
             [
              0.7777777777777778,
              "#fb9f3a"
             ],
             [
              0.8888888888888888,
              "#fdca26"
             ],
             [
              1,
              "#f0f921"
             ]
            ],
            "type": "histogram2d"
           }
          ],
          "histogram2dcontour": [
           {
            "colorbar": {
             "outlinewidth": 0,
             "ticks": ""
            },
            "colorscale": [
             [
              0,
              "#0d0887"
             ],
             [
              0.1111111111111111,
              "#46039f"
             ],
             [
              0.2222222222222222,
              "#7201a8"
             ],
             [
              0.3333333333333333,
              "#9c179e"
             ],
             [
              0.4444444444444444,
              "#bd3786"
             ],
             [
              0.5555555555555556,
              "#d8576b"
             ],
             [
              0.6666666666666666,
              "#ed7953"
             ],
             [
              0.7777777777777778,
              "#fb9f3a"
             ],
             [
              0.8888888888888888,
              "#fdca26"
             ],
             [
              1,
              "#f0f921"
             ]
            ],
            "type": "histogram2dcontour"
           }
          ],
          "mesh3d": [
           {
            "colorbar": {
             "outlinewidth": 0,
             "ticks": ""
            },
            "type": "mesh3d"
           }
          ],
          "parcoords": [
           {
            "line": {
             "colorbar": {
              "outlinewidth": 0,
              "ticks": ""
             }
            },
            "type": "parcoords"
           }
          ],
          "pie": [
           {
            "automargin": true,
            "type": "pie"
           }
          ],
          "scatter": [
           {
            "fillpattern": {
             "fillmode": "overlay",
             "size": 10,
             "solidity": 0.2
            },
            "type": "scatter"
           }
          ],
          "scatter3d": [
           {
            "line": {
             "colorbar": {
              "outlinewidth": 0,
              "ticks": ""
             }
            },
            "marker": {
             "colorbar": {
              "outlinewidth": 0,
              "ticks": ""
             }
            },
            "type": "scatter3d"
           }
          ],
          "scattercarpet": [
           {
            "marker": {
             "colorbar": {
              "outlinewidth": 0,
              "ticks": ""
             }
            },
            "type": "scattercarpet"
           }
          ],
          "scattergeo": [
           {
            "marker": {
             "colorbar": {
              "outlinewidth": 0,
              "ticks": ""
             }
            },
            "type": "scattergeo"
           }
          ],
          "scattergl": [
           {
            "marker": {
             "colorbar": {
              "outlinewidth": 0,
              "ticks": ""
             }
            },
            "type": "scattergl"
           }
          ],
          "scattermapbox": [
           {
            "marker": {
             "colorbar": {
              "outlinewidth": 0,
              "ticks": ""
             }
            },
            "type": "scattermapbox"
           }
          ],
          "scatterpolar": [
           {
            "marker": {
             "colorbar": {
              "outlinewidth": 0,
              "ticks": ""
             }
            },
            "type": "scatterpolar"
           }
          ],
          "scatterpolargl": [
           {
            "marker": {
             "colorbar": {
              "outlinewidth": 0,
              "ticks": ""
             }
            },
            "type": "scatterpolargl"
           }
          ],
          "scatterternary": [
           {
            "marker": {
             "colorbar": {
              "outlinewidth": 0,
              "ticks": ""
             }
            },
            "type": "scatterternary"
           }
          ],
          "surface": [
           {
            "colorbar": {
             "outlinewidth": 0,
             "ticks": ""
            },
            "colorscale": [
             [
              0,
              "#0d0887"
             ],
             [
              0.1111111111111111,
              "#46039f"
             ],
             [
              0.2222222222222222,
              "#7201a8"
             ],
             [
              0.3333333333333333,
              "#9c179e"
             ],
             [
              0.4444444444444444,
              "#bd3786"
             ],
             [
              0.5555555555555556,
              "#d8576b"
             ],
             [
              0.6666666666666666,
              "#ed7953"
             ],
             [
              0.7777777777777778,
              "#fb9f3a"
             ],
             [
              0.8888888888888888,
              "#fdca26"
             ],
             [
              1,
              "#f0f921"
             ]
            ],
            "type": "surface"
           }
          ],
          "table": [
           {
            "cells": {
             "fill": {
              "color": "#EBF0F8"
             },
             "line": {
              "color": "white"
             }
            },
            "header": {
             "fill": {
              "color": "#C8D4E3"
             },
             "line": {
              "color": "white"
             }
            },
            "type": "table"
           }
          ]
         },
         "layout": {
          "annotationdefaults": {
           "arrowcolor": "#2a3f5f",
           "arrowhead": 0,
           "arrowwidth": 1
          },
          "autotypenumbers": "strict",
          "coloraxis": {
           "colorbar": {
            "outlinewidth": 0,
            "ticks": ""
           }
          },
          "colorscale": {
           "diverging": [
            [
             0,
             "#8e0152"
            ],
            [
             0.1,
             "#c51b7d"
            ],
            [
             0.2,
             "#de77ae"
            ],
            [
             0.3,
             "#f1b6da"
            ],
            [
             0.4,
             "#fde0ef"
            ],
            [
             0.5,
             "#f7f7f7"
            ],
            [
             0.6,
             "#e6f5d0"
            ],
            [
             0.7,
             "#b8e186"
            ],
            [
             0.8,
             "#7fbc41"
            ],
            [
             0.9,
             "#4d9221"
            ],
            [
             1,
             "#276419"
            ]
           ],
           "sequential": [
            [
             0,
             "#0d0887"
            ],
            [
             0.1111111111111111,
             "#46039f"
            ],
            [
             0.2222222222222222,
             "#7201a8"
            ],
            [
             0.3333333333333333,
             "#9c179e"
            ],
            [
             0.4444444444444444,
             "#bd3786"
            ],
            [
             0.5555555555555556,
             "#d8576b"
            ],
            [
             0.6666666666666666,
             "#ed7953"
            ],
            [
             0.7777777777777778,
             "#fb9f3a"
            ],
            [
             0.8888888888888888,
             "#fdca26"
            ],
            [
             1,
             "#f0f921"
            ]
           ],
           "sequentialminus": [
            [
             0,
             "#0d0887"
            ],
            [
             0.1111111111111111,
             "#46039f"
            ],
            [
             0.2222222222222222,
             "#7201a8"
            ],
            [
             0.3333333333333333,
             "#9c179e"
            ],
            [
             0.4444444444444444,
             "#bd3786"
            ],
            [
             0.5555555555555556,
             "#d8576b"
            ],
            [
             0.6666666666666666,
             "#ed7953"
            ],
            [
             0.7777777777777778,
             "#fb9f3a"
            ],
            [
             0.8888888888888888,
             "#fdca26"
            ],
            [
             1,
             "#f0f921"
            ]
           ]
          },
          "colorway": [
           "#636efa",
           "#EF553B",
           "#00cc96",
           "#ab63fa",
           "#FFA15A",
           "#19d3f3",
           "#FF6692",
           "#B6E880",
           "#FF97FF",
           "#FECB52"
          ],
          "font": {
           "color": "#2a3f5f"
          },
          "geo": {
           "bgcolor": "white",
           "lakecolor": "white",
           "landcolor": "#E5ECF6",
           "showlakes": true,
           "showland": true,
           "subunitcolor": "white"
          },
          "hoverlabel": {
           "align": "left"
          },
          "hovermode": "closest",
          "mapbox": {
           "style": "light"
          },
          "paper_bgcolor": "white",
          "plot_bgcolor": "#E5ECF6",
          "polar": {
           "angularaxis": {
            "gridcolor": "white",
            "linecolor": "white",
            "ticks": ""
           },
           "bgcolor": "#E5ECF6",
           "radialaxis": {
            "gridcolor": "white",
            "linecolor": "white",
            "ticks": ""
           }
          },
          "scene": {
           "xaxis": {
            "backgroundcolor": "#E5ECF6",
            "gridcolor": "white",
            "gridwidth": 2,
            "linecolor": "white",
            "showbackground": true,
            "ticks": "",
            "zerolinecolor": "white"
           },
           "yaxis": {
            "backgroundcolor": "#E5ECF6",
            "gridcolor": "white",
            "gridwidth": 2,
            "linecolor": "white",
            "showbackground": true,
            "ticks": "",
            "zerolinecolor": "white"
           },
           "zaxis": {
            "backgroundcolor": "#E5ECF6",
            "gridcolor": "white",
            "gridwidth": 2,
            "linecolor": "white",
            "showbackground": true,
            "ticks": "",
            "zerolinecolor": "white"
           }
          },
          "shapedefaults": {
           "line": {
            "color": "#2a3f5f"
           }
          },
          "ternary": {
           "aaxis": {
            "gridcolor": "white",
            "linecolor": "white",
            "ticks": ""
           },
           "baxis": {
            "gridcolor": "white",
            "linecolor": "white",
            "ticks": ""
           },
           "bgcolor": "#E5ECF6",
           "caxis": {
            "gridcolor": "white",
            "linecolor": "white",
            "ticks": ""
           }
          },
          "title": {
           "x": 0.05
          },
          "xaxis": {
           "automargin": true,
           "gridcolor": "white",
           "linecolor": "white",
           "ticks": "",
           "title": {
            "standoff": 15
           },
           "zerolinecolor": "white",
           "zerolinewidth": 2
          },
          "yaxis": {
           "automargin": true,
           "gridcolor": "white",
           "linecolor": "white",
           "ticks": "",
           "title": {
            "standoff": 15
           },
           "zerolinecolor": "white",
           "zerolinewidth": 2
          }
         }
        },
        "xaxis": {
         "anchor": "y",
         "domain": [
          0,
          1
         ],
         "title": {
          "text": "revenu"
         }
        },
        "yaxis": {
         "anchor": "x",
         "domain": [
          0,
          1
         ],
         "title": {
          "text": "value"
         }
        }
       }
      }
     },
     "metadata": {},
     "output_type": "display_data"
    },
    {
     "data": {
      "text/html": [
       "<div>\n",
       "<style scoped>\n",
       "    .dataframe tbody tr th:only-of-type {\n",
       "        vertical-align: middle;\n",
       "    }\n",
       "\n",
       "    .dataframe tbody tr th {\n",
       "        vertical-align: top;\n",
       "    }\n",
       "\n",
       "    .dataframe thead th {\n",
       "        text-align: right;\n",
       "    }\n",
       "</style>\n",
       "<table border=\"1\" class=\"dataframe\">\n",
       "  <thead>\n",
       "    <tr style=\"text-align: right;\">\n",
       "      <th></th>\n",
       "      <th>revenu</th>\n",
       "      <th>IR_2023</th>\n",
       "      <th>IR_2024</th>\n",
       "    </tr>\n",
       "  </thead>\n",
       "  <tbody>\n",
       "    <tr>\n",
       "      <th>0</th>\n",
       "      <td>0.000000</td>\n",
       "      <td>0.000000</td>\n",
       "      <td>0.000000</td>\n",
       "    </tr>\n",
       "    <tr>\n",
       "      <th>1</th>\n",
       "      <td>1010.101135</td>\n",
       "      <td>0.000000</td>\n",
       "      <td>0.000000</td>\n",
       "    </tr>\n",
       "    <tr>\n",
       "      <th>2</th>\n",
       "      <td>2020.202271</td>\n",
       "      <td>0.000000</td>\n",
       "      <td>0.000000</td>\n",
       "    </tr>\n",
       "    <tr>\n",
       "      <th>3</th>\n",
       "      <td>3030.302734</td>\n",
       "      <td>0.000000</td>\n",
       "      <td>0.000000</td>\n",
       "    </tr>\n",
       "    <tr>\n",
       "      <th>4</th>\n",
       "      <td>4040.404541</td>\n",
       "      <td>0.000000</td>\n",
       "      <td>0.000000</td>\n",
       "    </tr>\n",
       "    <tr>\n",
       "      <th>...</th>\n",
       "      <td>...</td>\n",
       "      <td>...</td>\n",
       "      <td>...</td>\n",
       "    </tr>\n",
       "    <tr>\n",
       "      <th>95</th>\n",
       "      <td>95959.593750</td>\n",
       "      <td>5757.542969</td>\n",
       "      <td>7115.236328</td>\n",
       "    </tr>\n",
       "    <tr>\n",
       "      <th>96</th>\n",
       "      <td>96969.687500</td>\n",
       "      <td>5984.089844</td>\n",
       "      <td>7341.785156</td>\n",
       "    </tr>\n",
       "    <tr>\n",
       "      <th>97</th>\n",
       "      <td>97979.804688</td>\n",
       "      <td>6210.568359</td>\n",
       "      <td>7568.266602</td>\n",
       "    </tr>\n",
       "    <tr>\n",
       "      <th>98</th>\n",
       "      <td>98989.882812</td>\n",
       "      <td>6437.016602</td>\n",
       "      <td>7794.710938</td>\n",
       "    </tr>\n",
       "    <tr>\n",
       "      <th>99</th>\n",
       "      <td>100000.007812</td>\n",
       "      <td>6663.533203</td>\n",
       "      <td>8021.226562</td>\n",
       "    </tr>\n",
       "  </tbody>\n",
       "</table>\n",
       "<p>100 rows × 3 columns</p>\n",
       "</div>"
      ],
      "text/plain": [
       "           revenu      IR_2023      IR_2024\n",
       "0        0.000000     0.000000     0.000000\n",
       "1     1010.101135     0.000000     0.000000\n",
       "2     2020.202271     0.000000     0.000000\n",
       "3     3030.302734     0.000000     0.000000\n",
       "4     4040.404541     0.000000     0.000000\n",
       "..            ...          ...          ...\n",
       "95   95959.593750  5757.542969  7115.236328\n",
       "96   96969.687500  5984.089844  7341.785156\n",
       "97   97979.804688  6210.568359  7568.266602\n",
       "98   98989.882812  6437.016602  7794.710938\n",
       "99  100000.007812  6663.533203  8021.226562\n",
       "\n",
       "[100 rows x 3 columns]"
      ]
     },
     "execution_count": 9,
     "metadata": {},
     "output_type": "execute_result"
    }
   ],
   "source": [
    "TEST_CASE_evol = TEST_CASE\n",
    "TEST_CASE_evol['axes']= [[{'count':100, 'name':'salaire_de_base', 'min':0, 'max':100000, 'period':'2023'},\n",
    "                          {'count':100, 'name':'salaire_de_base', 'min':0, 'max':100000, 'period':'2024'}]]\n",
    "TEST_CASE_evol['individus']['parent1']['f6rs'] = {'2023': 10000, '2024': 5000}\n",
    "#pprint(TEST_CASE_evol)\n",
    "\n",
    "simulation_builder = SimulationBuilder()\n",
    "simulation_evol = simulation_builder.build_from_entities(legislation_reforme, TEST_CASE_evol)\n",
    "sdb = simulation_evol.calculate_add('salaire_de_base', '2023')\n",
    "salaire_foyer = sdb.reshape(100,3).sum(1)\n",
    "\n",
    "simulation_evol.trace = True\n",
    "income_tax_2023 = simulation_evol.calculate('ir_plaf_qf', 2023)\n",
    "income_tax_2024 = simulation_evol.calculate('ir_plaf_qf', 2024)\n",
    "df_income_tax = pd.DataFrame.from_dict({'revenu': salaire_foyer, 'IR_2023': income_tax_2023, 'IR_2024': income_tax_2024})\n",
    "fig = px.line(df_income_tax, x='revenu', y=['IR_2023', 'IR_2024'])\n",
    "fig.show()\n",
    "df_income_tax\n",
    "\n"
   ]
  },
  {
   "cell_type": "code",
   "execution_count": 10,
   "metadata": {},
   "outputs": [
    {
     "data": {
      "application/vnd.plotly.v1+json": {
       "config": {
        "plotlyServerURL": "https://plot.ly"
       },
       "data": [
        {
         "hovertemplate": "variable=IR_2023<br>Versement_PER=%{x}<br>value=%{y}<extra></extra>",
         "legendgroup": "IR_2023",
         "line": {
          "color": "#636efa",
          "dash": "solid"
         },
         "marker": {
          "symbol": "circle"
         },
         "mode": "lines",
         "name": "IR_2023",
         "orientation": "v",
         "showlegend": true,
         "type": "scatter",
         "x": [
          0,
          251,
          502,
          753,
          1005,
          1256,
          1507,
          1758,
          2010,
          2261,
          2512,
          2763,
          3015,
          3266,
          3517,
          3768,
          4020,
          4271,
          4522,
          4773,
          5025,
          5276,
          5527,
          5778,
          6030,
          6281,
          6532,
          6783,
          7035,
          7286,
          7537,
          7788,
          8040,
          8291,
          8542,
          8793,
          9045,
          9296,
          9547,
          9798,
          10050,
          10301,
          10552,
          10804,
          11055,
          11306,
          11557,
          11809,
          12060,
          12311,
          12562,
          12814,
          13065,
          13316,
          13567,
          13819,
          14070,
          14321,
          14572,
          14824,
          15075,
          15326,
          15577,
          15829,
          16080,
          16331,
          16582,
          16834,
          17085,
          17336,
          17587,
          17839,
          18090,
          18341,
          18592,
          18844,
          19095,
          19346,
          19597,
          19849,
          20100,
          20351,
          20603,
          20854,
          21105,
          21356,
          21608,
          21859,
          22110,
          22361,
          22613,
          22864,
          23115,
          23366,
          23618,
          23869,
          24120,
          24371,
          24623,
          24874,
          25125,
          25376,
          25628,
          25879,
          26130,
          26381,
          26633,
          26884,
          27135,
          27386,
          27638,
          27889,
          28140,
          28391,
          28643,
          28894,
          29145,
          29396,
          29648,
          29899,
          30150,
          30402,
          30653,
          30904,
          31155,
          31407,
          31658,
          31909,
          32160,
          32412,
          32663,
          32914,
          33165,
          33417,
          33668,
          33919,
          34170,
          34422,
          34673,
          34924,
          35175,
          35427,
          35678,
          35929,
          36180,
          36432,
          36683,
          36934,
          37185,
          37437,
          37688,
          37939,
          38190,
          38442,
          38693,
          38944,
          39195,
          39447,
          39698,
          39949,
          40201,
          40452,
          40703,
          40954,
          41206,
          41457,
          41708,
          41959,
          42211,
          42462,
          42713,
          42964,
          43216,
          43467,
          43718,
          43969,
          44221,
          44472,
          44723,
          44974,
          45226,
          45477,
          45728,
          45979,
          46231,
          46482,
          46733,
          46984,
          47236,
          47487,
          47738,
          47989,
          48241,
          48492,
          48743,
          48994,
          49246,
          49497,
          49748,
          50000
         ],
         "xaxis": "x",
         "y": [
          9663.533203125,
          9588.2333984375,
          9512.93359375,
          9437.6328125,
          9362.033203125,
          9286.7333984375,
          9211.43359375,
          9136.1328125,
          9060.533203125,
          8985.2333984375,
          8909.93359375,
          8834.6328125,
          8759.033203125,
          8683.7333984375,
          8608.43359375,
          8533.1328125,
          8457.533203125,
          8382.2333984375,
          8306.93359375,
          8231.6328125,
          8156.033203125,
          8080.7333984375,
          8005.43359375,
          7930.1328125,
          7854.533203125,
          7779.2333984375,
          7703.93359375,
          7628.6328125,
          7553.033203125,
          7477.7333984375,
          7402.43359375,
          7327.1328125,
          7251.533203125,
          7176.2333984375,
          7100.93359375,
          7025.6328125,
          6950.033203125,
          6874.7333984375,
          6799.43359375,
          6724.1328125,
          6648.533203125,
          6573.2333984375,
          6497.93359375,
          6422.3330078125,
          6347.033203125,
          6271.7333984375,
          6196.43359375,
          6120.8330078125,
          6045.533203125,
          5970.2333984375,
          5894.93359375,
          5819.3330078125,
          5744.033203125,
          5668.7333984375,
          5593.43359375,
          5517.8330078125,
          5442.533203125,
          5367.2333984375,
          5291.93359375,
          5216.3330078125,
          5141.033203125,
          5065.7333984375,
          4990.43359375,
          4914.8330078125,
          4839.533203125,
          4764.2333984375,
          4688.93359375,
          4613.3330078125,
          4538.033203125,
          4462.7333984375,
          4387.43359375,
          4311.8330078125,
          4236.533203125,
          4161.2333984375,
          4085.93359375,
          4010.3330078125,
          3935.033203125,
          3859.7333984375,
          3784.43359375,
          3708.8330078125,
          3633.533203125,
          3558.2333984375,
          3482.6328125,
          3407.3330078125,
          3332.033203125,
          3256.7333984375,
          3181.1328125,
          3105.8330078125,
          3030.533203125,
          2955.2333984375,
          2879.6328125,
          2804.3330078125,
          2729.033203125,
          2653.7333984375,
          2578.1328125,
          2502.8330078125,
          2427.533203125,
          2384.617919921875,
          2356.897705078125,
          2329.28759765625,
          2301.677978515625,
          2274.06787109375,
          2246.34765625,
          2218.737548828125,
          2191.1279296875,
          2163.517822265625,
          2135.797607421875,
          2108.1875,
          2080.578125,
          2052.968017578125,
          2025.2476806640625,
          1997.6375732421875,
          1970.028076171875,
          1942.41796875,
          1914.69775390625,
          1887.087646484375,
          1859.47802734375,
          1831.867919921875,
          1804.147705078125,
          1776.53759765625,
          1748.927978515625,
          1721.207763671875,
          1693.59765625,
          1665.987548828125,
          1638.3780517578125,
          1610.6578369140625,
          1583.0477294921875,
          1555.4376220703125,
          1527.8280029296875,
          1500.1077880859375,
          1472.4976806640625,
          1444.8875732421875,
          1417.278076171875,
          1389.557861328125,
          1361.94775390625,
          1334.337890625,
          1306.727783203125,
          1279.0078125,
          1251.397705078125,
          1223.787841796875,
          1196.177734375,
          1168.457763671875,
          1140.84765625,
          1113.2379150390625,
          1085.6278076171875,
          1057.9078369140625,
          1030.2977294921875,
          1002.6878662109375,
          975.0777587890625,
          947.3577880859375,
          919.7476806640625,
          892.1378784179688,
          864.5277709960938,
          836.8078002929688,
          809.1976928710938,
          781.587890625,
          753.977783203125,
          726.2578125,
          698.647705078125,
          671.037841796875,
          643.3179321289062,
          615.7078247070312,
          588.0977172851562,
          560.4878540039062,
          532.7679443359375,
          505.1578063964844,
          477.5476989746094,
          449.9378662109375,
          422.2179260253906,
          394.6078186035156,
          366.9977111816406,
          339.38787841796875,
          311.66790771484375,
          284.05780029296875,
          256.44769287109375,
          228.83786010742188,
          201.117919921875,
          173.5078125,
          145.897705078125,
          118.2878646850586,
          90.56791687011719,
          62.95781326293945,
          35.34770584106445,
          7.737866401672363,
          0,
          0,
          0,
          0,
          0,
          0,
          0,
          0,
          0,
          0,
          0,
          0,
          0,
          0,
          0,
          0
         ],
         "yaxis": "y"
        },
        {
         "hovertemplate": "variable=IR_2024<br>Versement_PER=%{x}<br>value=%{y}<extra></extra>",
         "legendgroup": "IR_2024",
         "line": {
          "color": "#EF553B",
          "dash": "solid"
         },
         "marker": {
          "symbol": "circle"
         },
         "mode": "lines",
         "name": "IR_2024",
         "orientation": "v",
         "showlegend": true,
         "type": "scatter",
         "x": [
          0,
          251,
          502,
          753,
          1005,
          1256,
          1507,
          1758,
          2010,
          2261,
          2512,
          2763,
          3015,
          3266,
          3517,
          3768,
          4020,
          4271,
          4522,
          4773,
          5025,
          5276,
          5527,
          5778,
          6030,
          6281,
          6532,
          6783,
          7035,
          7286,
          7537,
          7788,
          8040,
          8291,
          8542,
          8793,
          9045,
          9296,
          9547,
          9798,
          10050,
          10301,
          10552,
          10804,
          11055,
          11306,
          11557,
          11809,
          12060,
          12311,
          12562,
          12814,
          13065,
          13316,
          13567,
          13819,
          14070,
          14321,
          14572,
          14824,
          15075,
          15326,
          15577,
          15829,
          16080,
          16331,
          16582,
          16834,
          17085,
          17336,
          17587,
          17839,
          18090,
          18341,
          18592,
          18844,
          19095,
          19346,
          19597,
          19849,
          20100,
          20351,
          20603,
          20854,
          21105,
          21356,
          21608,
          21859,
          22110,
          22361,
          22613,
          22864,
          23115,
          23366,
          23618,
          23869,
          24120,
          24371,
          24623,
          24874,
          25125,
          25376,
          25628,
          25879,
          26130,
          26381,
          26633,
          26884,
          27135,
          27386,
          27638,
          27889,
          28140,
          28391,
          28643,
          28894,
          29145,
          29396,
          29648,
          29899,
          30150,
          30402,
          30653,
          30904,
          31155,
          31407,
          31658,
          31909,
          32160,
          32412,
          32663,
          32914,
          33165,
          33417,
          33668,
          33919,
          34170,
          34422,
          34673,
          34924,
          35175,
          35427,
          35678,
          35929,
          36180,
          36432,
          36683,
          36934,
          37185,
          37437,
          37688,
          37939,
          38190,
          38442,
          38693,
          38944,
          39195,
          39447,
          39698,
          39949,
          40201,
          40452,
          40703,
          40954,
          41206,
          41457,
          41708,
          41959,
          42211,
          42462,
          42713,
          42964,
          43216,
          43467,
          43718,
          43969,
          44221,
          44472,
          44723,
          44974,
          45226,
          45477,
          45728,
          45979,
          46231,
          46482,
          46733,
          46984,
          47236,
          47487,
          47738,
          47989,
          48241,
          48492,
          48743,
          48994,
          49246,
          49497,
          49748,
          50000
         ],
         "xaxis": "x",
         "y": [
          9521.2265625,
          9445.9267578125,
          9370.626953125,
          9295.3271484375,
          9219.7265625,
          9144.4267578125,
          9069.126953125,
          8993.8271484375,
          8918.2265625,
          8842.9267578125,
          8767.626953125,
          8692.3271484375,
          8616.7265625,
          8541.4267578125,
          8466.126953125,
          8390.8271484375,
          8315.2265625,
          8239.9267578125,
          8164.626953125,
          8089.3271484375,
          8013.7265625,
          7938.4267578125,
          7863.126953125,
          7787.8271484375,
          7712.2265625,
          7636.9267578125,
          7561.626953125,
          7486.3271484375,
          7410.7265625,
          7335.4267578125,
          7260.126953125,
          7184.8271484375,
          7109.2265625,
          7033.9267578125,
          6958.626953125,
          6883.3271484375,
          6807.7265625,
          6732.4267578125,
          6657.126953125,
          6581.8271484375,
          6506.2265625,
          6430.9267578125,
          6355.626953125,
          6280.02734375,
          6204.7265625,
          6129.4267578125,
          6054.126953125,
          5978.52734375,
          5903.2265625,
          5827.9267578125,
          5752.626953125,
          5677.02734375,
          5601.7265625,
          5526.4267578125,
          5451.126953125,
          5375.52734375,
          5300.2265625,
          5224.9267578125,
          5149.626953125,
          5074.02734375,
          4998.7265625,
          4923.4267578125,
          4848.126953125,
          4772.52734375,
          4697.2265625,
          4621.9267578125,
          4546.626953125,
          4471.02734375,
          4395.7265625,
          4320.4267578125,
          4245.126953125,
          4169.52734375,
          4094.2265625,
          4018.9267578125,
          3943.626953125,
          3868.02734375,
          3792.7265625,
          3717.4267578125,
          3642.126953125,
          3566.52734375,
          3491.2265625,
          3415.9267578125,
          3340.3271484375,
          3265.02734375,
          3189.7265625,
          3114.4267578125,
          3038.8271484375,
          2963.52734375,
          2888.2265625,
          2812.9267578125,
          2737.3271484375,
          2662.02734375,
          2586.7265625,
          2511.4267578125,
          2435.8271484375,
          2374.752197265625,
          2347.14208984375,
          2319.531982421875,
          2291.8125,
          2264.202392578125,
          2236.59228515625,
          2208.982177734375,
          2181.262451171875,
          2153.65234375,
          2126.042236328125,
          2098.43212890625,
          2070.71240234375,
          2043.102294921875,
          2015.4921875,
          1987.882080078125,
          1960.162353515625,
          1932.55224609375,
          1904.942138671875,
          1877.33203125,
          1849.6124267578125,
          1822.0023193359375,
          1794.3922119140625,
          1766.7821044921875,
          1739.0623779296875,
          1711.4522705078125,
          1683.8421630859375,
          1656.1219482421875,
          1628.512451171875,
          1600.90234375,
          1573.292236328125,
          1545.572021484375,
          1517.96240234375,
          1490.352294921875,
          1462.7421875,
          1435.02197265625,
          1407.412353515625,
          1379.80224609375,
          1352.192138671875,
          1324.4722900390625,
          1296.8621826171875,
          1269.2523193359375,
          1241.6422119140625,
          1213.9222412109375,
          1186.3121337890625,
          1158.7022705078125,
          1131.0921630859375,
          1103.3721923828125,
          1075.7620849609375,
          1048.15234375,
          1020.5421752929688,
          992.822265625,
          965.212158203125,
          937.602294921875,
          909.9921875,
          882.272216796875,
          854.662109375,
          827.0523071289062,
          799.4421997070312,
          771.7222290039062,
          744.1121215820312,
          716.5023193359375,
          688.8922119140625,
          661.1722412109375,
          633.5621337890625,
          605.9522705078125,
          578.2320556640625,
          550.6222534179688,
          523.0121459960938,
          495.40228271484375,
          467.68206787109375,
          440.0722351074219,
          412.4621276855469,
          384.852294921875,
          357.132080078125,
          329.5222473144531,
          301.9121398925781,
          274.30230712890625,
          246.5820770263672,
          218.9722442626953,
          191.3621368408203,
          163.75228881835938,
          136.03207397460938,
          108.4222412109375,
          80.8121337890625,
          53.202293395996094,
          25.482080459594727,
          0,
          0,
          0,
          0,
          0,
          0,
          0,
          0,
          0,
          0,
          0,
          0,
          0,
          0,
          0,
          0,
          0,
          0,
          0
         ],
         "yaxis": "y"
        }
       ],
       "layout": {
        "legend": {
         "title": {
          "text": "variable"
         },
         "tracegroupgap": 0
        },
        "margin": {
         "t": 60
        },
        "template": {
         "data": {
          "bar": [
           {
            "error_x": {
             "color": "#2a3f5f"
            },
            "error_y": {
             "color": "#2a3f5f"
            },
            "marker": {
             "line": {
              "color": "#E5ECF6",
              "width": 0.5
             },
             "pattern": {
              "fillmode": "overlay",
              "size": 10,
              "solidity": 0.2
             }
            },
            "type": "bar"
           }
          ],
          "barpolar": [
           {
            "marker": {
             "line": {
              "color": "#E5ECF6",
              "width": 0.5
             },
             "pattern": {
              "fillmode": "overlay",
              "size": 10,
              "solidity": 0.2
             }
            },
            "type": "barpolar"
           }
          ],
          "carpet": [
           {
            "aaxis": {
             "endlinecolor": "#2a3f5f",
             "gridcolor": "white",
             "linecolor": "white",
             "minorgridcolor": "white",
             "startlinecolor": "#2a3f5f"
            },
            "baxis": {
             "endlinecolor": "#2a3f5f",
             "gridcolor": "white",
             "linecolor": "white",
             "minorgridcolor": "white",
             "startlinecolor": "#2a3f5f"
            },
            "type": "carpet"
           }
          ],
          "choropleth": [
           {
            "colorbar": {
             "outlinewidth": 0,
             "ticks": ""
            },
            "type": "choropleth"
           }
          ],
          "contour": [
           {
            "colorbar": {
             "outlinewidth": 0,
             "ticks": ""
            },
            "colorscale": [
             [
              0,
              "#0d0887"
             ],
             [
              0.1111111111111111,
              "#46039f"
             ],
             [
              0.2222222222222222,
              "#7201a8"
             ],
             [
              0.3333333333333333,
              "#9c179e"
             ],
             [
              0.4444444444444444,
              "#bd3786"
             ],
             [
              0.5555555555555556,
              "#d8576b"
             ],
             [
              0.6666666666666666,
              "#ed7953"
             ],
             [
              0.7777777777777778,
              "#fb9f3a"
             ],
             [
              0.8888888888888888,
              "#fdca26"
             ],
             [
              1,
              "#f0f921"
             ]
            ],
            "type": "contour"
           }
          ],
          "contourcarpet": [
           {
            "colorbar": {
             "outlinewidth": 0,
             "ticks": ""
            },
            "type": "contourcarpet"
           }
          ],
          "heatmap": [
           {
            "colorbar": {
             "outlinewidth": 0,
             "ticks": ""
            },
            "colorscale": [
             [
              0,
              "#0d0887"
             ],
             [
              0.1111111111111111,
              "#46039f"
             ],
             [
              0.2222222222222222,
              "#7201a8"
             ],
             [
              0.3333333333333333,
              "#9c179e"
             ],
             [
              0.4444444444444444,
              "#bd3786"
             ],
             [
              0.5555555555555556,
              "#d8576b"
             ],
             [
              0.6666666666666666,
              "#ed7953"
             ],
             [
              0.7777777777777778,
              "#fb9f3a"
             ],
             [
              0.8888888888888888,
              "#fdca26"
             ],
             [
              1,
              "#f0f921"
             ]
            ],
            "type": "heatmap"
           }
          ],
          "heatmapgl": [
           {
            "colorbar": {
             "outlinewidth": 0,
             "ticks": ""
            },
            "colorscale": [
             [
              0,
              "#0d0887"
             ],
             [
              0.1111111111111111,
              "#46039f"
             ],
             [
              0.2222222222222222,
              "#7201a8"
             ],
             [
              0.3333333333333333,
              "#9c179e"
             ],
             [
              0.4444444444444444,
              "#bd3786"
             ],
             [
              0.5555555555555556,
              "#d8576b"
             ],
             [
              0.6666666666666666,
              "#ed7953"
             ],
             [
              0.7777777777777778,
              "#fb9f3a"
             ],
             [
              0.8888888888888888,
              "#fdca26"
             ],
             [
              1,
              "#f0f921"
             ]
            ],
            "type": "heatmapgl"
           }
          ],
          "histogram": [
           {
            "marker": {
             "pattern": {
              "fillmode": "overlay",
              "size": 10,
              "solidity": 0.2
             }
            },
            "type": "histogram"
           }
          ],
          "histogram2d": [
           {
            "colorbar": {
             "outlinewidth": 0,
             "ticks": ""
            },
            "colorscale": [
             [
              0,
              "#0d0887"
             ],
             [
              0.1111111111111111,
              "#46039f"
             ],
             [
              0.2222222222222222,
              "#7201a8"
             ],
             [
              0.3333333333333333,
              "#9c179e"
             ],
             [
              0.4444444444444444,
              "#bd3786"
             ],
             [
              0.5555555555555556,
              "#d8576b"
             ],
             [
              0.6666666666666666,
              "#ed7953"
             ],
             [
              0.7777777777777778,
              "#fb9f3a"
             ],
             [
              0.8888888888888888,
              "#fdca26"
             ],
             [
              1,
              "#f0f921"
             ]
            ],
            "type": "histogram2d"
           }
          ],
          "histogram2dcontour": [
           {
            "colorbar": {
             "outlinewidth": 0,
             "ticks": ""
            },
            "colorscale": [
             [
              0,
              "#0d0887"
             ],
             [
              0.1111111111111111,
              "#46039f"
             ],
             [
              0.2222222222222222,
              "#7201a8"
             ],
             [
              0.3333333333333333,
              "#9c179e"
             ],
             [
              0.4444444444444444,
              "#bd3786"
             ],
             [
              0.5555555555555556,
              "#d8576b"
             ],
             [
              0.6666666666666666,
              "#ed7953"
             ],
             [
              0.7777777777777778,
              "#fb9f3a"
             ],
             [
              0.8888888888888888,
              "#fdca26"
             ],
             [
              1,
              "#f0f921"
             ]
            ],
            "type": "histogram2dcontour"
           }
          ],
          "mesh3d": [
           {
            "colorbar": {
             "outlinewidth": 0,
             "ticks": ""
            },
            "type": "mesh3d"
           }
          ],
          "parcoords": [
           {
            "line": {
             "colorbar": {
              "outlinewidth": 0,
              "ticks": ""
             }
            },
            "type": "parcoords"
           }
          ],
          "pie": [
           {
            "automargin": true,
            "type": "pie"
           }
          ],
          "scatter": [
           {
            "fillpattern": {
             "fillmode": "overlay",
             "size": 10,
             "solidity": 0.2
            },
            "type": "scatter"
           }
          ],
          "scatter3d": [
           {
            "line": {
             "colorbar": {
              "outlinewidth": 0,
              "ticks": ""
             }
            },
            "marker": {
             "colorbar": {
              "outlinewidth": 0,
              "ticks": ""
             }
            },
            "type": "scatter3d"
           }
          ],
          "scattercarpet": [
           {
            "marker": {
             "colorbar": {
              "outlinewidth": 0,
              "ticks": ""
             }
            },
            "type": "scattercarpet"
           }
          ],
          "scattergeo": [
           {
            "marker": {
             "colorbar": {
              "outlinewidth": 0,
              "ticks": ""
             }
            },
            "type": "scattergeo"
           }
          ],
          "scattergl": [
           {
            "marker": {
             "colorbar": {
              "outlinewidth": 0,
              "ticks": ""
             }
            },
            "type": "scattergl"
           }
          ],
          "scattermapbox": [
           {
            "marker": {
             "colorbar": {
              "outlinewidth": 0,
              "ticks": ""
             }
            },
            "type": "scattermapbox"
           }
          ],
          "scatterpolar": [
           {
            "marker": {
             "colorbar": {
              "outlinewidth": 0,
              "ticks": ""
             }
            },
            "type": "scatterpolar"
           }
          ],
          "scatterpolargl": [
           {
            "marker": {
             "colorbar": {
              "outlinewidth": 0,
              "ticks": ""
             }
            },
            "type": "scatterpolargl"
           }
          ],
          "scatterternary": [
           {
            "marker": {
             "colorbar": {
              "outlinewidth": 0,
              "ticks": ""
             }
            },
            "type": "scatterternary"
           }
          ],
          "surface": [
           {
            "colorbar": {
             "outlinewidth": 0,
             "ticks": ""
            },
            "colorscale": [
             [
              0,
              "#0d0887"
             ],
             [
              0.1111111111111111,
              "#46039f"
             ],
             [
              0.2222222222222222,
              "#7201a8"
             ],
             [
              0.3333333333333333,
              "#9c179e"
             ],
             [
              0.4444444444444444,
              "#bd3786"
             ],
             [
              0.5555555555555556,
              "#d8576b"
             ],
             [
              0.6666666666666666,
              "#ed7953"
             ],
             [
              0.7777777777777778,
              "#fb9f3a"
             ],
             [
              0.8888888888888888,
              "#fdca26"
             ],
             [
              1,
              "#f0f921"
             ]
            ],
            "type": "surface"
           }
          ],
          "table": [
           {
            "cells": {
             "fill": {
              "color": "#EBF0F8"
             },
             "line": {
              "color": "white"
             }
            },
            "header": {
             "fill": {
              "color": "#C8D4E3"
             },
             "line": {
              "color": "white"
             }
            },
            "type": "table"
           }
          ]
         },
         "layout": {
          "annotationdefaults": {
           "arrowcolor": "#2a3f5f",
           "arrowhead": 0,
           "arrowwidth": 1
          },
          "autotypenumbers": "strict",
          "coloraxis": {
           "colorbar": {
            "outlinewidth": 0,
            "ticks": ""
           }
          },
          "colorscale": {
           "diverging": [
            [
             0,
             "#8e0152"
            ],
            [
             0.1,
             "#c51b7d"
            ],
            [
             0.2,
             "#de77ae"
            ],
            [
             0.3,
             "#f1b6da"
            ],
            [
             0.4,
             "#fde0ef"
            ],
            [
             0.5,
             "#f7f7f7"
            ],
            [
             0.6,
             "#e6f5d0"
            ],
            [
             0.7,
             "#b8e186"
            ],
            [
             0.8,
             "#7fbc41"
            ],
            [
             0.9,
             "#4d9221"
            ],
            [
             1,
             "#276419"
            ]
           ],
           "sequential": [
            [
             0,
             "#0d0887"
            ],
            [
             0.1111111111111111,
             "#46039f"
            ],
            [
             0.2222222222222222,
             "#7201a8"
            ],
            [
             0.3333333333333333,
             "#9c179e"
            ],
            [
             0.4444444444444444,
             "#bd3786"
            ],
            [
             0.5555555555555556,
             "#d8576b"
            ],
            [
             0.6666666666666666,
             "#ed7953"
            ],
            [
             0.7777777777777778,
             "#fb9f3a"
            ],
            [
             0.8888888888888888,
             "#fdca26"
            ],
            [
             1,
             "#f0f921"
            ]
           ],
           "sequentialminus": [
            [
             0,
             "#0d0887"
            ],
            [
             0.1111111111111111,
             "#46039f"
            ],
            [
             0.2222222222222222,
             "#7201a8"
            ],
            [
             0.3333333333333333,
             "#9c179e"
            ],
            [
             0.4444444444444444,
             "#bd3786"
            ],
            [
             0.5555555555555556,
             "#d8576b"
            ],
            [
             0.6666666666666666,
             "#ed7953"
            ],
            [
             0.7777777777777778,
             "#fb9f3a"
            ],
            [
             0.8888888888888888,
             "#fdca26"
            ],
            [
             1,
             "#f0f921"
            ]
           ]
          },
          "colorway": [
           "#636efa",
           "#EF553B",
           "#00cc96",
           "#ab63fa",
           "#FFA15A",
           "#19d3f3",
           "#FF6692",
           "#B6E880",
           "#FF97FF",
           "#FECB52"
          ],
          "font": {
           "color": "#2a3f5f"
          },
          "geo": {
           "bgcolor": "white",
           "lakecolor": "white",
           "landcolor": "#E5ECF6",
           "showlakes": true,
           "showland": true,
           "subunitcolor": "white"
          },
          "hoverlabel": {
           "align": "left"
          },
          "hovermode": "closest",
          "mapbox": {
           "style": "light"
          },
          "paper_bgcolor": "white",
          "plot_bgcolor": "#E5ECF6",
          "polar": {
           "angularaxis": {
            "gridcolor": "white",
            "linecolor": "white",
            "ticks": ""
           },
           "bgcolor": "#E5ECF6",
           "radialaxis": {
            "gridcolor": "white",
            "linecolor": "white",
            "ticks": ""
           }
          },
          "scene": {
           "xaxis": {
            "backgroundcolor": "#E5ECF6",
            "gridcolor": "white",
            "gridwidth": 2,
            "linecolor": "white",
            "showbackground": true,
            "ticks": "",
            "zerolinecolor": "white"
           },
           "yaxis": {
            "backgroundcolor": "#E5ECF6",
            "gridcolor": "white",
            "gridwidth": 2,
            "linecolor": "white",
            "showbackground": true,
            "ticks": "",
            "zerolinecolor": "white"
           },
           "zaxis": {
            "backgroundcolor": "#E5ECF6",
            "gridcolor": "white",
            "gridwidth": 2,
            "linecolor": "white",
            "showbackground": true,
            "ticks": "",
            "zerolinecolor": "white"
           }
          },
          "shapedefaults": {
           "line": {
            "color": "#2a3f5f"
           }
          },
          "ternary": {
           "aaxis": {
            "gridcolor": "white",
            "linecolor": "white",
            "ticks": ""
           },
           "baxis": {
            "gridcolor": "white",
            "linecolor": "white",
            "ticks": ""
           },
           "bgcolor": "#E5ECF6",
           "caxis": {
            "gridcolor": "white",
            "linecolor": "white",
            "ticks": ""
           }
          },
          "title": {
           "x": 0.05
          },
          "xaxis": {
           "automargin": true,
           "gridcolor": "white",
           "linecolor": "white",
           "ticks": "",
           "title": {
            "standoff": 15
           },
           "zerolinecolor": "white",
           "zerolinewidth": 2
          },
          "yaxis": {
           "automargin": true,
           "gridcolor": "white",
           "linecolor": "white",
           "ticks": "",
           "title": {
            "standoff": 15
           },
           "zerolinecolor": "white",
           "zerolinewidth": 2
          }
         }
        },
        "xaxis": {
         "anchor": "y",
         "domain": [
          0,
          1
         ],
         "title": {
          "text": "Versement_PER"
         }
        },
        "yaxis": {
         "anchor": "x",
         "domain": [
          0,
          1
         ],
         "title": {
          "text": "value"
         }
        }
       }
      }
     },
     "metadata": {},
     "output_type": "display_data"
    },
    {
     "data": {
      "application/vnd.plotly.v1+json": {
       "config": {
        "plotlyServerURL": "https://plot.ly"
       },
       "data": [
        {
         "hovertemplate": "Versement_PER=%{x}<br>tmi=%{y}<extra></extra>",
         "legendgroup": "",
         "line": {
          "color": "#636efa",
          "dash": "solid"
         },
         "marker": {
          "symbol": "circle"
         },
         "mode": "lines",
         "name": "",
         "orientation": "v",
         "showlegend": false,
         "type": "scatter",
         "x": [
          0,
          251,
          502,
          753,
          1005,
          1256,
          1507,
          1758,
          2010,
          2261,
          2512,
          2763,
          3015,
          3266,
          3517,
          3768,
          4020,
          4271,
          4522,
          4773,
          5025,
          5276,
          5527,
          5778,
          6030,
          6281,
          6532,
          6783,
          7035,
          7286,
          7537,
          7788,
          8040,
          8291,
          8542,
          8793,
          9045,
          9296,
          9547,
          9798,
          10050,
          10301,
          10552,
          10804,
          11055,
          11306,
          11557,
          11809,
          12060,
          12311,
          12562,
          12814,
          13065,
          13316,
          13567,
          13819,
          14070,
          14321,
          14572,
          14824,
          15075,
          15326,
          15577,
          15829,
          16080,
          16331,
          16582,
          16834,
          17085,
          17336,
          17587,
          17839,
          18090,
          18341,
          18592,
          18844,
          19095,
          19346,
          19597,
          19849,
          20100,
          20351,
          20603,
          20854,
          21105,
          21356,
          21608,
          21859,
          22110,
          22361,
          22613,
          22864,
          23115,
          23366,
          23618,
          23869,
          24120,
          24371,
          24623,
          24874,
          25125,
          25376,
          25628,
          25879,
          26130,
          26381,
          26633,
          26884,
          27135,
          27386,
          27638,
          27889,
          28140,
          28391,
          28643,
          28894,
          29145,
          29396,
          29648,
          29899,
          30150,
          30402,
          30653,
          30904,
          31155,
          31407,
          31658,
          31909,
          32160,
          32412,
          32663,
          32914,
          33165,
          33417,
          33668,
          33919,
          34170,
          34422,
          34673,
          34924,
          35175,
          35427,
          35678,
          35929,
          36180,
          36432,
          36683,
          36934,
          37185,
          37437,
          37688,
          37939,
          38190,
          38442,
          38693,
          38944,
          39195,
          39447,
          39698,
          39949,
          40201,
          40452,
          40703,
          40954,
          41206,
          41457,
          41708,
          41959,
          42211,
          42462,
          42713,
          42964,
          43216,
          43467,
          43718,
          43969,
          44221,
          44472,
          44723,
          44974,
          45226,
          45477,
          45728,
          45979,
          46231,
          46482,
          46733,
          46984,
          47236,
          47487,
          47738,
          47989,
          48241,
          48492,
          48743,
          48994,
          49246,
          49497,
          49748,
          50000
         ],
         "xaxis": "x",
         "y": [
          0.3,
          0.3,
          0.3,
          0.3,
          0.3,
          0.3,
          0.3,
          0.3,
          0.3,
          0.3,
          0.3,
          0.3,
          0.3,
          0.3,
          0.3,
          0.3,
          0.3,
          0.3,
          0.3,
          0.3,
          0.3,
          0.3,
          0.3,
          0.3,
          0.3,
          0.3,
          0.3,
          0.3,
          0.3,
          0.3,
          0.3,
          0.3,
          0.3,
          0.3,
          0.3,
          0.3,
          0.3,
          0.3,
          0.3,
          0.3,
          0.3,
          0.3,
          0.3,
          0.3,
          0.3,
          0.3,
          0.3,
          0.3,
          0.3,
          0.3,
          0.3,
          0.3,
          0.3,
          0.3,
          0.3,
          0.3,
          0.3,
          0.3,
          0.3,
          0.3,
          0.3,
          0.3,
          0.3,
          0.3,
          0.3,
          0.3,
          0.3,
          0.3,
          0.3,
          0.3,
          0.3,
          0.3,
          0.3,
          0.3,
          0.3,
          0.3,
          0.3,
          0.3,
          0.3,
          0.3,
          0.3,
          0.3,
          0.3,
          0.3,
          0.3,
          0.3,
          0.3,
          0.3,
          0.3,
          0.3,
          0.3,
          0.3,
          0.3,
          0.3,
          0.3,
          0.11,
          0.11,
          0.11,
          0.11,
          0.11,
          0.11,
          0.11,
          0.11,
          0.11,
          0.11,
          0.11,
          0.11,
          0.11,
          0.11,
          0.11,
          0.11,
          0.11,
          0.11,
          0.11,
          0.11,
          0.11,
          0.11,
          0.11,
          0.11,
          0.11,
          0.11,
          0.11,
          0.11,
          0.11,
          0.11,
          0.11,
          0.11,
          0.11,
          0.11,
          0.11,
          0.11,
          0.11,
          0.11,
          0.11,
          0.11,
          0.11,
          0.11,
          0.11,
          0.11,
          0.11,
          0.11,
          0.11,
          0.11,
          0.11,
          0.11,
          0.11,
          0.11,
          0.11,
          0.11,
          0.11,
          0.11,
          0.11,
          0.11,
          0.11,
          0.11,
          0.11,
          0.11,
          0.11,
          0.11,
          0.11,
          0.11,
          0.11,
          0.11,
          0.11,
          0.11,
          0.11,
          0.11,
          0.11,
          0.11,
          0.11,
          0.11,
          0.11,
          0.11,
          0.11,
          0.11,
          0.11,
          0.11,
          0.11,
          0.11,
          0.11,
          0.11,
          0,
          0,
          0,
          0,
          0,
          0,
          0,
          0,
          0,
          0,
          0,
          0,
          0,
          0,
          0,
          0,
          0,
          0,
          0
         ],
         "yaxis": "y"
        }
       ],
       "layout": {
        "legend": {
         "tracegroupgap": 0
        },
        "margin": {
         "t": 60
        },
        "template": {
         "data": {
          "bar": [
           {
            "error_x": {
             "color": "#2a3f5f"
            },
            "error_y": {
             "color": "#2a3f5f"
            },
            "marker": {
             "line": {
              "color": "#E5ECF6",
              "width": 0.5
             },
             "pattern": {
              "fillmode": "overlay",
              "size": 10,
              "solidity": 0.2
             }
            },
            "type": "bar"
           }
          ],
          "barpolar": [
           {
            "marker": {
             "line": {
              "color": "#E5ECF6",
              "width": 0.5
             },
             "pattern": {
              "fillmode": "overlay",
              "size": 10,
              "solidity": 0.2
             }
            },
            "type": "barpolar"
           }
          ],
          "carpet": [
           {
            "aaxis": {
             "endlinecolor": "#2a3f5f",
             "gridcolor": "white",
             "linecolor": "white",
             "minorgridcolor": "white",
             "startlinecolor": "#2a3f5f"
            },
            "baxis": {
             "endlinecolor": "#2a3f5f",
             "gridcolor": "white",
             "linecolor": "white",
             "minorgridcolor": "white",
             "startlinecolor": "#2a3f5f"
            },
            "type": "carpet"
           }
          ],
          "choropleth": [
           {
            "colorbar": {
             "outlinewidth": 0,
             "ticks": ""
            },
            "type": "choropleth"
           }
          ],
          "contour": [
           {
            "colorbar": {
             "outlinewidth": 0,
             "ticks": ""
            },
            "colorscale": [
             [
              0,
              "#0d0887"
             ],
             [
              0.1111111111111111,
              "#46039f"
             ],
             [
              0.2222222222222222,
              "#7201a8"
             ],
             [
              0.3333333333333333,
              "#9c179e"
             ],
             [
              0.4444444444444444,
              "#bd3786"
             ],
             [
              0.5555555555555556,
              "#d8576b"
             ],
             [
              0.6666666666666666,
              "#ed7953"
             ],
             [
              0.7777777777777778,
              "#fb9f3a"
             ],
             [
              0.8888888888888888,
              "#fdca26"
             ],
             [
              1,
              "#f0f921"
             ]
            ],
            "type": "contour"
           }
          ],
          "contourcarpet": [
           {
            "colorbar": {
             "outlinewidth": 0,
             "ticks": ""
            },
            "type": "contourcarpet"
           }
          ],
          "heatmap": [
           {
            "colorbar": {
             "outlinewidth": 0,
             "ticks": ""
            },
            "colorscale": [
             [
              0,
              "#0d0887"
             ],
             [
              0.1111111111111111,
              "#46039f"
             ],
             [
              0.2222222222222222,
              "#7201a8"
             ],
             [
              0.3333333333333333,
              "#9c179e"
             ],
             [
              0.4444444444444444,
              "#bd3786"
             ],
             [
              0.5555555555555556,
              "#d8576b"
             ],
             [
              0.6666666666666666,
              "#ed7953"
             ],
             [
              0.7777777777777778,
              "#fb9f3a"
             ],
             [
              0.8888888888888888,
              "#fdca26"
             ],
             [
              1,
              "#f0f921"
             ]
            ],
            "type": "heatmap"
           }
          ],
          "heatmapgl": [
           {
            "colorbar": {
             "outlinewidth": 0,
             "ticks": ""
            },
            "colorscale": [
             [
              0,
              "#0d0887"
             ],
             [
              0.1111111111111111,
              "#46039f"
             ],
             [
              0.2222222222222222,
              "#7201a8"
             ],
             [
              0.3333333333333333,
              "#9c179e"
             ],
             [
              0.4444444444444444,
              "#bd3786"
             ],
             [
              0.5555555555555556,
              "#d8576b"
             ],
             [
              0.6666666666666666,
              "#ed7953"
             ],
             [
              0.7777777777777778,
              "#fb9f3a"
             ],
             [
              0.8888888888888888,
              "#fdca26"
             ],
             [
              1,
              "#f0f921"
             ]
            ],
            "type": "heatmapgl"
           }
          ],
          "histogram": [
           {
            "marker": {
             "pattern": {
              "fillmode": "overlay",
              "size": 10,
              "solidity": 0.2
             }
            },
            "type": "histogram"
           }
          ],
          "histogram2d": [
           {
            "colorbar": {
             "outlinewidth": 0,
             "ticks": ""
            },
            "colorscale": [
             [
              0,
              "#0d0887"
             ],
             [
              0.1111111111111111,
              "#46039f"
             ],
             [
              0.2222222222222222,
              "#7201a8"
             ],
             [
              0.3333333333333333,
              "#9c179e"
             ],
             [
              0.4444444444444444,
              "#bd3786"
             ],
             [
              0.5555555555555556,
              "#d8576b"
             ],
             [
              0.6666666666666666,
              "#ed7953"
             ],
             [
              0.7777777777777778,
              "#fb9f3a"
             ],
             [
              0.8888888888888888,
              "#fdca26"
             ],
             [
              1,
              "#f0f921"
             ]
            ],
            "type": "histogram2d"
           }
          ],
          "histogram2dcontour": [
           {
            "colorbar": {
             "outlinewidth": 0,
             "ticks": ""
            },
            "colorscale": [
             [
              0,
              "#0d0887"
             ],
             [
              0.1111111111111111,
              "#46039f"
             ],
             [
              0.2222222222222222,
              "#7201a8"
             ],
             [
              0.3333333333333333,
              "#9c179e"
             ],
             [
              0.4444444444444444,
              "#bd3786"
             ],
             [
              0.5555555555555556,
              "#d8576b"
             ],
             [
              0.6666666666666666,
              "#ed7953"
             ],
             [
              0.7777777777777778,
              "#fb9f3a"
             ],
             [
              0.8888888888888888,
              "#fdca26"
             ],
             [
              1,
              "#f0f921"
             ]
            ],
            "type": "histogram2dcontour"
           }
          ],
          "mesh3d": [
           {
            "colorbar": {
             "outlinewidth": 0,
             "ticks": ""
            },
            "type": "mesh3d"
           }
          ],
          "parcoords": [
           {
            "line": {
             "colorbar": {
              "outlinewidth": 0,
              "ticks": ""
             }
            },
            "type": "parcoords"
           }
          ],
          "pie": [
           {
            "automargin": true,
            "type": "pie"
           }
          ],
          "scatter": [
           {
            "fillpattern": {
             "fillmode": "overlay",
             "size": 10,
             "solidity": 0.2
            },
            "type": "scatter"
           }
          ],
          "scatter3d": [
           {
            "line": {
             "colorbar": {
              "outlinewidth": 0,
              "ticks": ""
             }
            },
            "marker": {
             "colorbar": {
              "outlinewidth": 0,
              "ticks": ""
             }
            },
            "type": "scatter3d"
           }
          ],
          "scattercarpet": [
           {
            "marker": {
             "colorbar": {
              "outlinewidth": 0,
              "ticks": ""
             }
            },
            "type": "scattercarpet"
           }
          ],
          "scattergeo": [
           {
            "marker": {
             "colorbar": {
              "outlinewidth": 0,
              "ticks": ""
             }
            },
            "type": "scattergeo"
           }
          ],
          "scattergl": [
           {
            "marker": {
             "colorbar": {
              "outlinewidth": 0,
              "ticks": ""
             }
            },
            "type": "scattergl"
           }
          ],
          "scattermapbox": [
           {
            "marker": {
             "colorbar": {
              "outlinewidth": 0,
              "ticks": ""
             }
            },
            "type": "scattermapbox"
           }
          ],
          "scatterpolar": [
           {
            "marker": {
             "colorbar": {
              "outlinewidth": 0,
              "ticks": ""
             }
            },
            "type": "scatterpolar"
           }
          ],
          "scatterpolargl": [
           {
            "marker": {
             "colorbar": {
              "outlinewidth": 0,
              "ticks": ""
             }
            },
            "type": "scatterpolargl"
           }
          ],
          "scatterternary": [
           {
            "marker": {
             "colorbar": {
              "outlinewidth": 0,
              "ticks": ""
             }
            },
            "type": "scatterternary"
           }
          ],
          "surface": [
           {
            "colorbar": {
             "outlinewidth": 0,
             "ticks": ""
            },
            "colorscale": [
             [
              0,
              "#0d0887"
             ],
             [
              0.1111111111111111,
              "#46039f"
             ],
             [
              0.2222222222222222,
              "#7201a8"
             ],
             [
              0.3333333333333333,
              "#9c179e"
             ],
             [
              0.4444444444444444,
              "#bd3786"
             ],
             [
              0.5555555555555556,
              "#d8576b"
             ],
             [
              0.6666666666666666,
              "#ed7953"
             ],
             [
              0.7777777777777778,
              "#fb9f3a"
             ],
             [
              0.8888888888888888,
              "#fdca26"
             ],
             [
              1,
              "#f0f921"
             ]
            ],
            "type": "surface"
           }
          ],
          "table": [
           {
            "cells": {
             "fill": {
              "color": "#EBF0F8"
             },
             "line": {
              "color": "white"
             }
            },
            "header": {
             "fill": {
              "color": "#C8D4E3"
             },
             "line": {
              "color": "white"
             }
            },
            "type": "table"
           }
          ]
         },
         "layout": {
          "annotationdefaults": {
           "arrowcolor": "#2a3f5f",
           "arrowhead": 0,
           "arrowwidth": 1
          },
          "autotypenumbers": "strict",
          "coloraxis": {
           "colorbar": {
            "outlinewidth": 0,
            "ticks": ""
           }
          },
          "colorscale": {
           "diverging": [
            [
             0,
             "#8e0152"
            ],
            [
             0.1,
             "#c51b7d"
            ],
            [
             0.2,
             "#de77ae"
            ],
            [
             0.3,
             "#f1b6da"
            ],
            [
             0.4,
             "#fde0ef"
            ],
            [
             0.5,
             "#f7f7f7"
            ],
            [
             0.6,
             "#e6f5d0"
            ],
            [
             0.7,
             "#b8e186"
            ],
            [
             0.8,
             "#7fbc41"
            ],
            [
             0.9,
             "#4d9221"
            ],
            [
             1,
             "#276419"
            ]
           ],
           "sequential": [
            [
             0,
             "#0d0887"
            ],
            [
             0.1111111111111111,
             "#46039f"
            ],
            [
             0.2222222222222222,
             "#7201a8"
            ],
            [
             0.3333333333333333,
             "#9c179e"
            ],
            [
             0.4444444444444444,
             "#bd3786"
            ],
            [
             0.5555555555555556,
             "#d8576b"
            ],
            [
             0.6666666666666666,
             "#ed7953"
            ],
            [
             0.7777777777777778,
             "#fb9f3a"
            ],
            [
             0.8888888888888888,
             "#fdca26"
            ],
            [
             1,
             "#f0f921"
            ]
           ],
           "sequentialminus": [
            [
             0,
             "#0d0887"
            ],
            [
             0.1111111111111111,
             "#46039f"
            ],
            [
             0.2222222222222222,
             "#7201a8"
            ],
            [
             0.3333333333333333,
             "#9c179e"
            ],
            [
             0.4444444444444444,
             "#bd3786"
            ],
            [
             0.5555555555555556,
             "#d8576b"
            ],
            [
             0.6666666666666666,
             "#ed7953"
            ],
            [
             0.7777777777777778,
             "#fb9f3a"
            ],
            [
             0.8888888888888888,
             "#fdca26"
            ],
            [
             1,
             "#f0f921"
            ]
           ]
          },
          "colorway": [
           "#636efa",
           "#EF553B",
           "#00cc96",
           "#ab63fa",
           "#FFA15A",
           "#19d3f3",
           "#FF6692",
           "#B6E880",
           "#FF97FF",
           "#FECB52"
          ],
          "font": {
           "color": "#2a3f5f"
          },
          "geo": {
           "bgcolor": "white",
           "lakecolor": "white",
           "landcolor": "#E5ECF6",
           "showlakes": true,
           "showland": true,
           "subunitcolor": "white"
          },
          "hoverlabel": {
           "align": "left"
          },
          "hovermode": "closest",
          "mapbox": {
           "style": "light"
          },
          "paper_bgcolor": "white",
          "plot_bgcolor": "#E5ECF6",
          "polar": {
           "angularaxis": {
            "gridcolor": "white",
            "linecolor": "white",
            "ticks": ""
           },
           "bgcolor": "#E5ECF6",
           "radialaxis": {
            "gridcolor": "white",
            "linecolor": "white",
            "ticks": ""
           }
          },
          "scene": {
           "xaxis": {
            "backgroundcolor": "#E5ECF6",
            "gridcolor": "white",
            "gridwidth": 2,
            "linecolor": "white",
            "showbackground": true,
            "ticks": "",
            "zerolinecolor": "white"
           },
           "yaxis": {
            "backgroundcolor": "#E5ECF6",
            "gridcolor": "white",
            "gridwidth": 2,
            "linecolor": "white",
            "showbackground": true,
            "ticks": "",
            "zerolinecolor": "white"
           },
           "zaxis": {
            "backgroundcolor": "#E5ECF6",
            "gridcolor": "white",
            "gridwidth": 2,
            "linecolor": "white",
            "showbackground": true,
            "ticks": "",
            "zerolinecolor": "white"
           }
          },
          "shapedefaults": {
           "line": {
            "color": "#2a3f5f"
           }
          },
          "ternary": {
           "aaxis": {
            "gridcolor": "white",
            "linecolor": "white",
            "ticks": ""
           },
           "baxis": {
            "gridcolor": "white",
            "linecolor": "white",
            "ticks": ""
           },
           "bgcolor": "#E5ECF6",
           "caxis": {
            "gridcolor": "white",
            "linecolor": "white",
            "ticks": ""
           }
          },
          "title": {
           "x": 0.05
          },
          "xaxis": {
           "automargin": true,
           "gridcolor": "white",
           "linecolor": "white",
           "ticks": "",
           "title": {
            "standoff": 15
           },
           "zerolinecolor": "white",
           "zerolinewidth": 2
          },
          "yaxis": {
           "automargin": true,
           "gridcolor": "white",
           "linecolor": "white",
           "ticks": "",
           "title": {
            "standoff": 15
           },
           "zerolinecolor": "white",
           "zerolinewidth": 2
          }
         }
        },
        "xaxis": {
         "anchor": "y",
         "domain": [
          0,
          1
         ],
         "title": {
          "text": "Versement_PER"
         }
        },
        "yaxis": {
         "anchor": "x",
         "domain": [
          0,
          1
         ],
         "title": {
          "text": "tmi"
         }
        }
       }
      }
     },
     "metadata": {},
     "output_type": "display_data"
    }
   ],
   "source": [
    "TEST_CASE_PER = TEST_CASE\n",
    "TEST_CASE_PER['axes']= [[{'count':200, 'name':'f6rs', 'min':0, 'max':50000, 'period':'2023'},\n",
    "                          {'count':200, 'name':'f6rs', 'min':0, 'max':50000, 'period':'2024'}]]\n",
    "#TEST_CASE_evol['individus']['parent1']['f6rs'] = {'2023': 10000, '2024': 5000}\n",
    "simulation_builder = SimulationBuilder()\n",
    "simulation_per = simulation_builder.build_from_entities(legislation_reforme, TEST_CASE_PER)\n",
    "sdb = simulation_per.calculate_add('f6rs', '2023')\n",
    "versement_PER = sdb.reshape(200,3).sum(1)\n",
    "\n",
    "income_tax_2023 = simulation_per.calculate('ir_plaf_qf', 2023)\n",
    "income_tax_2024 = simulation_per.calculate('ir_plaf_qf', 2024)\n",
    "tmi_2024 = simulation_per.calculate('ir_tranche', 2024)\n",
    "df_income_tax = pd.DataFrame.from_dict({'Versement_PER': versement_PER, 'IR_2023': income_tax_2023, 'IR_2024': income_tax_2024})\n",
    "fig = px.line(df_income_tax, x='Versement_PER', y=['IR_2023', 'IR_2024'])\n",
    "fig.show()\n",
    "df_tmi = pd.DataFrame.from_dict({'Versement_PER':versement_PER, 'tmi': tmi_2024})\n",
    "tranches_bareme_en_cours = legislation_reforme.parameters.impot_revenu.bareme_ir_depuis_1945.bareme(2024).rates\n",
    "df_tmi['tmi'] = df_tmi['tmi'].apply(lambda x: tranches_bareme_en_cours[x])\n",
    "\n",
    "fig = px.line(df_tmi, x='Versement_PER', y='tmi')\n",
    "fig.show()\n"
   ]
  },
  {
   "cell_type": "code",
   "execution_count": 11,
   "metadata": {},
   "outputs": [
    {
     "data": {
      "text/plain": [
       "['__add__',\n",
       " '__class__',\n",
       " '__class_getitem__',\n",
       " '__contains__',\n",
       " '__delattr__',\n",
       " '__delitem__',\n",
       " '__dir__',\n",
       " '__doc__',\n",
       " '__eq__',\n",
       " '__format__',\n",
       " '__ge__',\n",
       " '__getattribute__',\n",
       " '__getitem__',\n",
       " '__gt__',\n",
       " '__hash__',\n",
       " '__iadd__',\n",
       " '__imul__',\n",
       " '__init__',\n",
       " '__init_subclass__',\n",
       " '__iter__',\n",
       " '__le__',\n",
       " '__len__',\n",
       " '__lt__',\n",
       " '__mul__',\n",
       " '__ne__',\n",
       " '__new__',\n",
       " '__reduce__',\n",
       " '__reduce_ex__',\n",
       " '__repr__',\n",
       " '__reversed__',\n",
       " '__rmul__',\n",
       " '__setattr__',\n",
       " '__setitem__',\n",
       " '__sizeof__',\n",
       " '__str__',\n",
       " '__subclasshook__',\n",
       " 'append',\n",
       " 'clear',\n",
       " 'copy',\n",
       " 'count',\n",
       " 'extend',\n",
       " 'index',\n",
       " 'insert',\n",
       " 'pop',\n",
       " 'remove',\n",
       " 'reverse',\n",
       " 'sort']"
      ]
     },
     "execution_count": 11,
     "metadata": {},
     "output_type": "execute_result"
    }
   ],
   "source": [
    "dir(legislation_reforme.parameters.impot_revenu.calcul_impot_revenu.plaf_qf)\n",
    "dir(legislation_reforme.entities)"
   ]
  }
 ],
 "metadata": {
  "kernelspec": {
   "display_name": "openfisca",
   "language": "python",
   "name": "python3"
  },
  "language_info": {
   "codemirror_mode": {
    "name": "ipython",
    "version": 3
   },
   "file_extension": ".py",
   "mimetype": "text/x-python",
   "name": "python",
   "nbconvert_exporter": "python",
   "pygments_lexer": "ipython3",
   "version": "3.9.20"
  }
 },
 "nbformat": 4,
 "nbformat_minor": 2
}
